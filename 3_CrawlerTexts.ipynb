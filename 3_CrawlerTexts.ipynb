{
 "cells": [
  {
   "cell_type": "markdown",
   "id": "3a9b369b-1b46-491d-85b1-1b2d8c7cf4e5",
   "metadata": {},
   "source": [
    "# Crawler -- texts\n",
    "\n",
    "Date: 2024/05/06"
   ]
  },
  {
   "cell_type": "code",
   "execution_count": 1,
   "id": "501ce34e-106a-4a31-bb8c-3d93551d40e3",
   "metadata": {},
   "outputs": [],
   "source": [
    "%run ./lib.py\n",
    "import sqlite3\n",
    "import requests"
   ]
  },
  {
   "cell_type": "code",
   "execution_count": 2,
   "id": "4f93344d-bd7f-4cde-be1c-a262a6ef8731",
   "metadata": {
    "scrolled": true
   },
   "outputs": [
    {
     "name": "stdout",
     "output_type": "stream",
     "text": [
      "1/169 2/169 3/169 4/169 5/169 6/169 7/169 8/169 9/169 10/169 11/169 12/169 13/169 14/169 15/169 16/169 17/169 18/169 19/169 20/169 21/169 22/169 23/169 24/169 25/169 26/169 27/169 28/169 29/169 30/169 31/169 32/169 33/169 34/169 35/169 36/169 37/169 38/169 39/169 40/169 41/169 42/169 43/169 44/169 45/169 46/169 47/169 48/169 49/169 50/169 51/169 52/169 53/169 54/169 55/169 56/169 57/169 58/169 59/169 60/169 61/169 62/169 63/169 64/169 65/169 66/169 67/169 68/169 69/169 70/169 71/169 72/169 73/169 74/169 75/169 76/169 77/169 78/169 79/169 80/169 81/169 82/169 83/169 84/169 85/169 86/169 87/169 88/169 89/169 90/169 91/169 92/169 93/169 94/169 95/169 96/169 97/169 98/169 99/169 100/169 101/169 102/169 103/169 104/169 105/169 106/169 107/169 108/169 109/169 110/169 111/169 112/169 113/169 114/169 115/169 116/169 117/169 118/169 119/169 120/169 121/169 122/169 123/169 124/169 125/169 126/169 127/169 128/169 129/169 130/169 https://www.city.yokohama.lg.jp/city-info/seisaku/hoshin/4kanen/2022-2025/chuki2022-.files/chuki2022-.files/0070_20230213.pdf\n",
      "131/169 "
     ]
    },
    {
     "name": "stderr",
     "output_type": "stream",
     "text": [
      "Traceback (most recent call last):\n",
      "  File \"/var/folders/_t/6t6dcyn14zb6p4jvvrgprd0m0000gn/T/ipykernel_3736/2126315527.py\", line 32, in <module>\n",
      "    doc = fitz.open(stream=resp.content)\n",
      "          ^^^^^^^^^^^^^^^^^^^^^^^^^^^^^^\n",
      "  File \"/Library/Frameworks/Python.framework/Versions/3.11/lib/python3.11/site-packages/fitz/__init__.py\", line 2738, in __init__\n",
      "    doc = mupdf.fz_open_document_with_stream(magic, data)\n",
      "          ^^^^^^^^^^^^^^^^^^^^^^^^^^^^^^^^^^^^^^^^^^^^^^^\n",
      "  File \"/Library/Frameworks/Python.framework/Versions/3.11/lib/python3.11/site-packages/fitz/mupdf.py\", line 44056, in fz_open_document_with_stream\n",
      "    return _mupdf.fz_open_document_with_stream(magic, stream)\n",
      "           ^^^^^^^^^^^^^^^^^^^^^^^^^^^^^^^^^^^^^^^^^^^^^^^^^^\n",
      "fitz.mupdf.FzErrorFormat: code=7: no objects found\n"
     ]
    },
    {
     "name": "stdout",
     "output_type": "stream",
     "text": [
      "https://www.city.yokohama.lg.jp/city-info/seisaku/hoshin/4kanen/2022-2025/chuki2022-.files/chuki2022-.files/0071_20230213.pdf\n",
      "132/169 "
     ]
    },
    {
     "name": "stderr",
     "output_type": "stream",
     "text": [
      "Traceback (most recent call last):\n",
      "  File \"/var/folders/_t/6t6dcyn14zb6p4jvvrgprd0m0000gn/T/ipykernel_3736/2126315527.py\", line 32, in <module>\n",
      "    doc = fitz.open(stream=resp.content)\n",
      "          ^^^^^^^^^^^^^^^^^^^^^^^^^^^^^^\n",
      "  File \"/Library/Frameworks/Python.framework/Versions/3.11/lib/python3.11/site-packages/fitz/__init__.py\", line 2738, in __init__\n",
      "    doc = mupdf.fz_open_document_with_stream(magic, data)\n",
      "          ^^^^^^^^^^^^^^^^^^^^^^^^^^^^^^^^^^^^^^^^^^^^^^^\n",
      "  File \"/Library/Frameworks/Python.framework/Versions/3.11/lib/python3.11/site-packages/fitz/mupdf.py\", line 44056, in fz_open_document_with_stream\n",
      "    return _mupdf.fz_open_document_with_stream(magic, stream)\n",
      "           ^^^^^^^^^^^^^^^^^^^^^^^^^^^^^^^^^^^^^^^^^^^^^^^^^^\n",
      "fitz.mupdf.FzErrorFormat: code=7: no objects found\n"
     ]
    },
    {
     "name": "stdout",
     "output_type": "stream",
     "text": [
      "https://www.city.yokohama.lg.jp/city-info/seisaku/hoshin/4kanen/2022-2025/chuki2022-.files/chuki2022-.files/0023_20230118.pdf\n",
      "133/169 "
     ]
    },
    {
     "name": "stderr",
     "output_type": "stream",
     "text": [
      "Traceback (most recent call last):\n",
      "  File \"/var/folders/_t/6t6dcyn14zb6p4jvvrgprd0m0000gn/T/ipykernel_3736/2126315527.py\", line 32, in <module>\n",
      "    doc = fitz.open(stream=resp.content)\n",
      "          ^^^^^^^^^^^^^^^^^^^^^^^^^^^^^^\n",
      "  File \"/Library/Frameworks/Python.framework/Versions/3.11/lib/python3.11/site-packages/fitz/__init__.py\", line 2738, in __init__\n",
      "    doc = mupdf.fz_open_document_with_stream(magic, data)\n",
      "          ^^^^^^^^^^^^^^^^^^^^^^^^^^^^^^^^^^^^^^^^^^^^^^^\n",
      "  File \"/Library/Frameworks/Python.framework/Versions/3.11/lib/python3.11/site-packages/fitz/mupdf.py\", line 44056, in fz_open_document_with_stream\n",
      "    return _mupdf.fz_open_document_with_stream(magic, stream)\n",
      "           ^^^^^^^^^^^^^^^^^^^^^^^^^^^^^^^^^^^^^^^^^^^^^^^^^^\n",
      "fitz.mupdf.FzErrorFormat: code=7: no objects found\n"
     ]
    },
    {
     "name": "stdout",
     "output_type": "stream",
     "text": [
      "https://www.city.yokohama.lg.jp/city-info/seisaku/hoshin/4kanen/2022-2025/chuki2022-.files/chuki2022-.files/0024_20230118.pdf\n",
      "134/169 "
     ]
    },
    {
     "name": "stderr",
     "output_type": "stream",
     "text": [
      "Traceback (most recent call last):\n",
      "  File \"/var/folders/_t/6t6dcyn14zb6p4jvvrgprd0m0000gn/T/ipykernel_3736/2126315527.py\", line 32, in <module>\n",
      "    doc = fitz.open(stream=resp.content)\n",
      "          ^^^^^^^^^^^^^^^^^^^^^^^^^^^^^^\n",
      "  File \"/Library/Frameworks/Python.framework/Versions/3.11/lib/python3.11/site-packages/fitz/__init__.py\", line 2738, in __init__\n",
      "    doc = mupdf.fz_open_document_with_stream(magic, data)\n",
      "          ^^^^^^^^^^^^^^^^^^^^^^^^^^^^^^^^^^^^^^^^^^^^^^^\n",
      "  File \"/Library/Frameworks/Python.framework/Versions/3.11/lib/python3.11/site-packages/fitz/mupdf.py\", line 44056, in fz_open_document_with_stream\n",
      "    return _mupdf.fz_open_document_with_stream(magic, stream)\n",
      "           ^^^^^^^^^^^^^^^^^^^^^^^^^^^^^^^^^^^^^^^^^^^^^^^^^^\n",
      "fitz.mupdf.FzErrorFormat: code=7: no objects found\n"
     ]
    },
    {
     "name": "stdout",
     "output_type": "stream",
     "text": [
      "https://www.city.yokohama.lg.jp/city-info/seisaku/hoshin/4kanen/2022-2025/chuki2022-.files/chuki2022-.files/0072_20230213.pdf\n",
      "135/169 "
     ]
    },
    {
     "name": "stderr",
     "output_type": "stream",
     "text": [
      "Traceback (most recent call last):\n",
      "  File \"/var/folders/_t/6t6dcyn14zb6p4jvvrgprd0m0000gn/T/ipykernel_3736/2126315527.py\", line 32, in <module>\n",
      "    doc = fitz.open(stream=resp.content)\n",
      "          ^^^^^^^^^^^^^^^^^^^^^^^^^^^^^^\n",
      "  File \"/Library/Frameworks/Python.framework/Versions/3.11/lib/python3.11/site-packages/fitz/__init__.py\", line 2738, in __init__\n",
      "    doc = mupdf.fz_open_document_with_stream(magic, data)\n",
      "          ^^^^^^^^^^^^^^^^^^^^^^^^^^^^^^^^^^^^^^^^^^^^^^^\n",
      "  File \"/Library/Frameworks/Python.framework/Versions/3.11/lib/python3.11/site-packages/fitz/mupdf.py\", line 44056, in fz_open_document_with_stream\n",
      "    return _mupdf.fz_open_document_with_stream(magic, stream)\n",
      "           ^^^^^^^^^^^^^^^^^^^^^^^^^^^^^^^^^^^^^^^^^^^^^^^^^^\n",
      "fitz.mupdf.FzErrorFormat: code=7: no objects found\n"
     ]
    },
    {
     "name": "stdout",
     "output_type": "stream",
     "text": [
      "https://www.city.yokohama.lg.jp/city-info/seisaku/hoshin/4kanen/2022-2025/chuki2022-.files/chuki2022-.files/0026_20230118.pdf\n",
      "136/169 "
     ]
    },
    {
     "name": "stderr",
     "output_type": "stream",
     "text": [
      "Traceback (most recent call last):\n",
      "  File \"/var/folders/_t/6t6dcyn14zb6p4jvvrgprd0m0000gn/T/ipykernel_3736/2126315527.py\", line 32, in <module>\n",
      "    doc = fitz.open(stream=resp.content)\n",
      "          ^^^^^^^^^^^^^^^^^^^^^^^^^^^^^^\n",
      "  File \"/Library/Frameworks/Python.framework/Versions/3.11/lib/python3.11/site-packages/fitz/__init__.py\", line 2738, in __init__\n",
      "    doc = mupdf.fz_open_document_with_stream(magic, data)\n",
      "          ^^^^^^^^^^^^^^^^^^^^^^^^^^^^^^^^^^^^^^^^^^^^^^^\n",
      "  File \"/Library/Frameworks/Python.framework/Versions/3.11/lib/python3.11/site-packages/fitz/mupdf.py\", line 44056, in fz_open_document_with_stream\n",
      "    return _mupdf.fz_open_document_with_stream(magic, stream)\n",
      "           ^^^^^^^^^^^^^^^^^^^^^^^^^^^^^^^^^^^^^^^^^^^^^^^^^^\n",
      "fitz.mupdf.FzErrorFormat: code=7: no objects found\n"
     ]
    },
    {
     "name": "stdout",
     "output_type": "stream",
     "text": [
      "https://www.city.yokohama.lg.jp/city-info/seisaku/hoshin/4kanen/2022-2025/chuki2022-.files/chuki2022-.files/0027_20230118.pdf\n",
      "137/169 "
     ]
    },
    {
     "name": "stderr",
     "output_type": "stream",
     "text": [
      "Traceback (most recent call last):\n",
      "  File \"/var/folders/_t/6t6dcyn14zb6p4jvvrgprd0m0000gn/T/ipykernel_3736/2126315527.py\", line 32, in <module>\n",
      "    doc = fitz.open(stream=resp.content)\n",
      "          ^^^^^^^^^^^^^^^^^^^^^^^^^^^^^^\n",
      "  File \"/Library/Frameworks/Python.framework/Versions/3.11/lib/python3.11/site-packages/fitz/__init__.py\", line 2738, in __init__\n",
      "    doc = mupdf.fz_open_document_with_stream(magic, data)\n",
      "          ^^^^^^^^^^^^^^^^^^^^^^^^^^^^^^^^^^^^^^^^^^^^^^^\n",
      "  File \"/Library/Frameworks/Python.framework/Versions/3.11/lib/python3.11/site-packages/fitz/mupdf.py\", line 44056, in fz_open_document_with_stream\n",
      "    return _mupdf.fz_open_document_with_stream(magic, stream)\n",
      "           ^^^^^^^^^^^^^^^^^^^^^^^^^^^^^^^^^^^^^^^^^^^^^^^^^^\n",
      "fitz.mupdf.FzErrorFormat: code=7: no objects found\n"
     ]
    },
    {
     "name": "stdout",
     "output_type": "stream",
     "text": [
      "https://www.city.yokohama.lg.jp/city-info/seisaku/hoshin/4kanen/2022-2025/chuki2022-.files/chuki2022-.files/0073_20230213.pdf\n",
      "138/169 "
     ]
    },
    {
     "name": "stderr",
     "output_type": "stream",
     "text": [
      "Traceback (most recent call last):\n",
      "  File \"/var/folders/_t/6t6dcyn14zb6p4jvvrgprd0m0000gn/T/ipykernel_3736/2126315527.py\", line 32, in <module>\n",
      "    doc = fitz.open(stream=resp.content)\n",
      "          ^^^^^^^^^^^^^^^^^^^^^^^^^^^^^^\n",
      "  File \"/Library/Frameworks/Python.framework/Versions/3.11/lib/python3.11/site-packages/fitz/__init__.py\", line 2738, in __init__\n",
      "    doc = mupdf.fz_open_document_with_stream(magic, data)\n",
      "          ^^^^^^^^^^^^^^^^^^^^^^^^^^^^^^^^^^^^^^^^^^^^^^^\n",
      "  File \"/Library/Frameworks/Python.framework/Versions/3.11/lib/python3.11/site-packages/fitz/mupdf.py\", line 44056, in fz_open_document_with_stream\n",
      "    return _mupdf.fz_open_document_with_stream(magic, stream)\n",
      "           ^^^^^^^^^^^^^^^^^^^^^^^^^^^^^^^^^^^^^^^^^^^^^^^^^^\n",
      "fitz.mupdf.FzErrorFormat: code=7: no objects found\n"
     ]
    },
    {
     "name": "stdout",
     "output_type": "stream",
     "text": [
      "https://www.city.yokohama.lg.jp/city-info/seisaku/hoshin/4kanen/2022-2025/chuki2022-.files/chuki2022-.files/0029_20230118.pdf\n",
      "139/169 "
     ]
    },
    {
     "name": "stderr",
     "output_type": "stream",
     "text": [
      "Traceback (most recent call last):\n",
      "  File \"/var/folders/_t/6t6dcyn14zb6p4jvvrgprd0m0000gn/T/ipykernel_3736/2126315527.py\", line 32, in <module>\n",
      "    doc = fitz.open(stream=resp.content)\n",
      "          ^^^^^^^^^^^^^^^^^^^^^^^^^^^^^^\n",
      "  File \"/Library/Frameworks/Python.framework/Versions/3.11/lib/python3.11/site-packages/fitz/__init__.py\", line 2738, in __init__\n",
      "    doc = mupdf.fz_open_document_with_stream(magic, data)\n",
      "          ^^^^^^^^^^^^^^^^^^^^^^^^^^^^^^^^^^^^^^^^^^^^^^^\n",
      "  File \"/Library/Frameworks/Python.framework/Versions/3.11/lib/python3.11/site-packages/fitz/mupdf.py\", line 44056, in fz_open_document_with_stream\n",
      "    return _mupdf.fz_open_document_with_stream(magic, stream)\n",
      "           ^^^^^^^^^^^^^^^^^^^^^^^^^^^^^^^^^^^^^^^^^^^^^^^^^^\n",
      "fitz.mupdf.FzErrorFormat: code=7: no objects found\n"
     ]
    },
    {
     "name": "stdout",
     "output_type": "stream",
     "text": [
      "https://www.city.yokohama.lg.jp/city-info/seisaku/hoshin/4kanen/2022-2025/chuki2022-.files/chuki2022-.files/0030_20230118.pdf\n",
      "140/169 "
     ]
    },
    {
     "name": "stderr",
     "output_type": "stream",
     "text": [
      "Traceback (most recent call last):\n",
      "  File \"/var/folders/_t/6t6dcyn14zb6p4jvvrgprd0m0000gn/T/ipykernel_3736/2126315527.py\", line 32, in <module>\n",
      "    doc = fitz.open(stream=resp.content)\n",
      "          ^^^^^^^^^^^^^^^^^^^^^^^^^^^^^^\n",
      "  File \"/Library/Frameworks/Python.framework/Versions/3.11/lib/python3.11/site-packages/fitz/__init__.py\", line 2738, in __init__\n",
      "    doc = mupdf.fz_open_document_with_stream(magic, data)\n",
      "          ^^^^^^^^^^^^^^^^^^^^^^^^^^^^^^^^^^^^^^^^^^^^^^^\n",
      "  File \"/Library/Frameworks/Python.framework/Versions/3.11/lib/python3.11/site-packages/fitz/mupdf.py\", line 44056, in fz_open_document_with_stream\n",
      "    return _mupdf.fz_open_document_with_stream(magic, stream)\n",
      "           ^^^^^^^^^^^^^^^^^^^^^^^^^^^^^^^^^^^^^^^^^^^^^^^^^^\n",
      "fitz.mupdf.FzErrorFormat: code=7: no objects found\n"
     ]
    },
    {
     "name": "stdout",
     "output_type": "stream",
     "text": [
      "https://www.city.yokohama.lg.jp/city-info/seisaku/hoshin/4kanen/2022-2025/chuki2022-.files/chuki2022-.files/0031_20230118.pdf\n",
      "141/169 "
     ]
    },
    {
     "name": "stderr",
     "output_type": "stream",
     "text": [
      "Traceback (most recent call last):\n",
      "  File \"/var/folders/_t/6t6dcyn14zb6p4jvvrgprd0m0000gn/T/ipykernel_3736/2126315527.py\", line 32, in <module>\n",
      "    doc = fitz.open(stream=resp.content)\n",
      "          ^^^^^^^^^^^^^^^^^^^^^^^^^^^^^^\n",
      "  File \"/Library/Frameworks/Python.framework/Versions/3.11/lib/python3.11/site-packages/fitz/__init__.py\", line 2738, in __init__\n",
      "    doc = mupdf.fz_open_document_with_stream(magic, data)\n",
      "          ^^^^^^^^^^^^^^^^^^^^^^^^^^^^^^^^^^^^^^^^^^^^^^^\n",
      "  File \"/Library/Frameworks/Python.framework/Versions/3.11/lib/python3.11/site-packages/fitz/mupdf.py\", line 44056, in fz_open_document_with_stream\n",
      "    return _mupdf.fz_open_document_with_stream(magic, stream)\n",
      "           ^^^^^^^^^^^^^^^^^^^^^^^^^^^^^^^^^^^^^^^^^^^^^^^^^^\n",
      "fitz.mupdf.FzErrorFormat: code=7: no objects found\n"
     ]
    },
    {
     "name": "stdout",
     "output_type": "stream",
     "text": [
      "https://www.city.yokohama.lg.jp/city-info/seisaku/hoshin/4kanen/2022-2025/chuki2022-.files/chuki2022-.files/0074_20230213.pdf\n",
      "142/169 "
     ]
    },
    {
     "name": "stderr",
     "output_type": "stream",
     "text": [
      "Traceback (most recent call last):\n",
      "  File \"/var/folders/_t/6t6dcyn14zb6p4jvvrgprd0m0000gn/T/ipykernel_3736/2126315527.py\", line 32, in <module>\n",
      "    doc = fitz.open(stream=resp.content)\n",
      "          ^^^^^^^^^^^^^^^^^^^^^^^^^^^^^^\n",
      "  File \"/Library/Frameworks/Python.framework/Versions/3.11/lib/python3.11/site-packages/fitz/__init__.py\", line 2738, in __init__\n",
      "    doc = mupdf.fz_open_document_with_stream(magic, data)\n",
      "          ^^^^^^^^^^^^^^^^^^^^^^^^^^^^^^^^^^^^^^^^^^^^^^^\n",
      "  File \"/Library/Frameworks/Python.framework/Versions/3.11/lib/python3.11/site-packages/fitz/mupdf.py\", line 44056, in fz_open_document_with_stream\n",
      "    return _mupdf.fz_open_document_with_stream(magic, stream)\n",
      "           ^^^^^^^^^^^^^^^^^^^^^^^^^^^^^^^^^^^^^^^^^^^^^^^^^^\n",
      "fitz.mupdf.FzErrorFormat: code=7: no objects found\n"
     ]
    },
    {
     "name": "stdout",
     "output_type": "stream",
     "text": [
      "https://www.city.yokohama.lg.jp/city-info/seisaku/hoshin/4kanen/2022-2025/chuki2022-.files/chuki2022-.files/0033_20230118.pdf\n",
      "143/169 "
     ]
    },
    {
     "name": "stderr",
     "output_type": "stream",
     "text": [
      "Traceback (most recent call last):\n",
      "  File \"/var/folders/_t/6t6dcyn14zb6p4jvvrgprd0m0000gn/T/ipykernel_3736/2126315527.py\", line 32, in <module>\n",
      "    doc = fitz.open(stream=resp.content)\n",
      "          ^^^^^^^^^^^^^^^^^^^^^^^^^^^^^^\n",
      "  File \"/Library/Frameworks/Python.framework/Versions/3.11/lib/python3.11/site-packages/fitz/__init__.py\", line 2738, in __init__\n",
      "    doc = mupdf.fz_open_document_with_stream(magic, data)\n",
      "          ^^^^^^^^^^^^^^^^^^^^^^^^^^^^^^^^^^^^^^^^^^^^^^^\n",
      "  File \"/Library/Frameworks/Python.framework/Versions/3.11/lib/python3.11/site-packages/fitz/mupdf.py\", line 44056, in fz_open_document_with_stream\n",
      "    return _mupdf.fz_open_document_with_stream(magic, stream)\n",
      "           ^^^^^^^^^^^^^^^^^^^^^^^^^^^^^^^^^^^^^^^^^^^^^^^^^^\n",
      "fitz.mupdf.FzErrorFormat: code=7: no objects found\n"
     ]
    },
    {
     "name": "stdout",
     "output_type": "stream",
     "text": [
      "https://www.city.yokohama.lg.jp/city-info/seisaku/hoshin/4kanen/2022-2025/chuki2022-.files/chuki2022-.files/0034_20230118.pdf\n",
      "144/169 "
     ]
    },
    {
     "name": "stderr",
     "output_type": "stream",
     "text": [
      "Traceback (most recent call last):\n",
      "  File \"/var/folders/_t/6t6dcyn14zb6p4jvvrgprd0m0000gn/T/ipykernel_3736/2126315527.py\", line 32, in <module>\n",
      "    doc = fitz.open(stream=resp.content)\n",
      "          ^^^^^^^^^^^^^^^^^^^^^^^^^^^^^^\n",
      "  File \"/Library/Frameworks/Python.framework/Versions/3.11/lib/python3.11/site-packages/fitz/__init__.py\", line 2738, in __init__\n",
      "    doc = mupdf.fz_open_document_with_stream(magic, data)\n",
      "          ^^^^^^^^^^^^^^^^^^^^^^^^^^^^^^^^^^^^^^^^^^^^^^^\n",
      "  File \"/Library/Frameworks/Python.framework/Versions/3.11/lib/python3.11/site-packages/fitz/mupdf.py\", line 44056, in fz_open_document_with_stream\n",
      "    return _mupdf.fz_open_document_with_stream(magic, stream)\n",
      "           ^^^^^^^^^^^^^^^^^^^^^^^^^^^^^^^^^^^^^^^^^^^^^^^^^^\n",
      "fitz.mupdf.FzErrorFormat: code=7: no objects found\n"
     ]
    },
    {
     "name": "stdout",
     "output_type": "stream",
     "text": [
      "https://www.city.yokohama.lg.jp/city-info/seisaku/hoshin/4kanen/2022-2025/chuki2022-.files/chuki2022-.files/0067_20230125.pdf\n",
      "145/169 "
     ]
    },
    {
     "name": "stderr",
     "output_type": "stream",
     "text": [
      "Traceback (most recent call last):\n",
      "  File \"/var/folders/_t/6t6dcyn14zb6p4jvvrgprd0m0000gn/T/ipykernel_3736/2126315527.py\", line 32, in <module>\n",
      "    doc = fitz.open(stream=resp.content)\n",
      "          ^^^^^^^^^^^^^^^^^^^^^^^^^^^^^^\n",
      "  File \"/Library/Frameworks/Python.framework/Versions/3.11/lib/python3.11/site-packages/fitz/__init__.py\", line 2738, in __init__\n",
      "    doc = mupdf.fz_open_document_with_stream(magic, data)\n",
      "          ^^^^^^^^^^^^^^^^^^^^^^^^^^^^^^^^^^^^^^^^^^^^^^^\n",
      "  File \"/Library/Frameworks/Python.framework/Versions/3.11/lib/python3.11/site-packages/fitz/mupdf.py\", line 44056, in fz_open_document_with_stream\n",
      "    return _mupdf.fz_open_document_with_stream(magic, stream)\n",
      "           ^^^^^^^^^^^^^^^^^^^^^^^^^^^^^^^^^^^^^^^^^^^^^^^^^^\n",
      "fitz.mupdf.FzErrorFormat: code=7: no objects found\n"
     ]
    },
    {
     "name": "stdout",
     "output_type": "stream",
     "text": [
      "https://www.city.yokohama.lg.jp/city-info/seisaku/hoshin/4kanen/2022-2025/chuki2022-.files/chuki2022-.files/0060_20230118.pdf\n",
      "146/169 "
     ]
    },
    {
     "name": "stderr",
     "output_type": "stream",
     "text": [
      "Traceback (most recent call last):\n",
      "  File \"/var/folders/_t/6t6dcyn14zb6p4jvvrgprd0m0000gn/T/ipykernel_3736/2126315527.py\", line 32, in <module>\n",
      "    doc = fitz.open(stream=resp.content)\n",
      "          ^^^^^^^^^^^^^^^^^^^^^^^^^^^^^^\n",
      "  File \"/Library/Frameworks/Python.framework/Versions/3.11/lib/python3.11/site-packages/fitz/__init__.py\", line 2738, in __init__\n",
      "    doc = mupdf.fz_open_document_with_stream(magic, data)\n",
      "          ^^^^^^^^^^^^^^^^^^^^^^^^^^^^^^^^^^^^^^^^^^^^^^^\n",
      "  File \"/Library/Frameworks/Python.framework/Versions/3.11/lib/python3.11/site-packages/fitz/mupdf.py\", line 44056, in fz_open_document_with_stream\n",
      "    return _mupdf.fz_open_document_with_stream(magic, stream)\n",
      "           ^^^^^^^^^^^^^^^^^^^^^^^^^^^^^^^^^^^^^^^^^^^^^^^^^^\n",
      "fitz.mupdf.FzErrorFormat: code=7: no objects found\n"
     ]
    },
    {
     "name": "stdout",
     "output_type": "stream",
     "text": [
      "https://www.city.yokohama.lg.jp/city-info/seisaku/hoshin/4kanen/2022-2025/chuki2022-.files/chuki2022-.files/0061_20230118.pdf\n",
      "147/169 "
     ]
    },
    {
     "name": "stderr",
     "output_type": "stream",
     "text": [
      "Traceback (most recent call last):\n",
      "  File \"/var/folders/_t/6t6dcyn14zb6p4jvvrgprd0m0000gn/T/ipykernel_3736/2126315527.py\", line 32, in <module>\n",
      "    doc = fitz.open(stream=resp.content)\n",
      "          ^^^^^^^^^^^^^^^^^^^^^^^^^^^^^^\n",
      "  File \"/Library/Frameworks/Python.framework/Versions/3.11/lib/python3.11/site-packages/fitz/__init__.py\", line 2738, in __init__\n",
      "    doc = mupdf.fz_open_document_with_stream(magic, data)\n",
      "          ^^^^^^^^^^^^^^^^^^^^^^^^^^^^^^^^^^^^^^^^^^^^^^^\n",
      "  File \"/Library/Frameworks/Python.framework/Versions/3.11/lib/python3.11/site-packages/fitz/mupdf.py\", line 44056, in fz_open_document_with_stream\n",
      "    return _mupdf.fz_open_document_with_stream(magic, stream)\n",
      "           ^^^^^^^^^^^^^^^^^^^^^^^^^^^^^^^^^^^^^^^^^^^^^^^^^^\n",
      "fitz.mupdf.FzErrorFormat: code=7: no objects found\n"
     ]
    },
    {
     "name": "stdout",
     "output_type": "stream",
     "text": [
      "https://www.city.yokohama.lg.jp/city-info/seisaku/hoshin/4kanen/2022-2025/chuki2022-.files/chuki2022-.files/0062_20230118.pdf\n",
      "148/169 "
     ]
    },
    {
     "name": "stderr",
     "output_type": "stream",
     "text": [
      "Traceback (most recent call last):\n",
      "  File \"/var/folders/_t/6t6dcyn14zb6p4jvvrgprd0m0000gn/T/ipykernel_3736/2126315527.py\", line 32, in <module>\n",
      "    doc = fitz.open(stream=resp.content)\n",
      "          ^^^^^^^^^^^^^^^^^^^^^^^^^^^^^^\n",
      "  File \"/Library/Frameworks/Python.framework/Versions/3.11/lib/python3.11/site-packages/fitz/__init__.py\", line 2738, in __init__\n",
      "    doc = mupdf.fz_open_document_with_stream(magic, data)\n",
      "          ^^^^^^^^^^^^^^^^^^^^^^^^^^^^^^^^^^^^^^^^^^^^^^^\n",
      "  File \"/Library/Frameworks/Python.framework/Versions/3.11/lib/python3.11/site-packages/fitz/mupdf.py\", line 44056, in fz_open_document_with_stream\n",
      "    return _mupdf.fz_open_document_with_stream(magic, stream)\n",
      "           ^^^^^^^^^^^^^^^^^^^^^^^^^^^^^^^^^^^^^^^^^^^^^^^^^^\n",
      "fitz.mupdf.FzErrorFormat: code=7: no objects found\n"
     ]
    },
    {
     "name": "stdout",
     "output_type": "stream",
     "text": [
      "https://www.city.yokohama.lg.jp/city-info/seisaku/hoshin/4kanen/2022-2025/chuki2022-.files/chuki2022-.files/0098_20230323.pdf\n",
      "149/169 "
     ]
    },
    {
     "name": "stderr",
     "output_type": "stream",
     "text": [
      "Traceback (most recent call last):\n",
      "  File \"/var/folders/_t/6t6dcyn14zb6p4jvvrgprd0m0000gn/T/ipykernel_3736/2126315527.py\", line 32, in <module>\n",
      "    doc = fitz.open(stream=resp.content)\n",
      "          ^^^^^^^^^^^^^^^^^^^^^^^^^^^^^^\n",
      "  File \"/Library/Frameworks/Python.framework/Versions/3.11/lib/python3.11/site-packages/fitz/__init__.py\", line 2738, in __init__\n",
      "    doc = mupdf.fz_open_document_with_stream(magic, data)\n",
      "          ^^^^^^^^^^^^^^^^^^^^^^^^^^^^^^^^^^^^^^^^^^^^^^^\n",
      "  File \"/Library/Frameworks/Python.framework/Versions/3.11/lib/python3.11/site-packages/fitz/mupdf.py\", line 44056, in fz_open_document_with_stream\n",
      "    return _mupdf.fz_open_document_with_stream(magic, stream)\n",
      "           ^^^^^^^^^^^^^^^^^^^^^^^^^^^^^^^^^^^^^^^^^^^^^^^^^^\n",
      "fitz.mupdf.FzErrorFormat: code=7: no objects found\n"
     ]
    },
    {
     "name": "stdout",
     "output_type": "stream",
     "text": [
      "150/169 151/169 152/169 153/169 154/169 155/169 156/169 157/169 158/169 159/169 160/169 161/169 162/169 163/169 164/169 165/169 166/169 167/169 168/169 169/169 "
     ]
    }
   ],
   "source": [
    "import traceback\n",
    "import fitz\n",
    "\n",
    "# Reference: https://stackoverflow.com/questions/67558627/problem-while-joining-two-url-components-with-urllib\n",
    "# urljoinは使わない方が良い。スラッシュありなしで結果が異なるため。\n",
    "def joinurl(baseurl, path):\n",
    "    return '/'.join([baseurl.rstrip('/'), path.lstrip('/')])\n",
    "\n",
    "extract_text = lambda page: (page.number, page.get_text(\"text\").replace('\\n', ''))\n",
    "\n",
    "with sqlite3.connect(DB_PATH) as conn:\n",
    "    cur = conn.cursor()\n",
    "    cur.execute('DROP TABLE IF EXISTS texts')\n",
    "    cur.execute('CREATE TABLE texts (link_id INTEGER, page INTEGER, text TEXT, UNIQUE(link_id, page, text), FOREIGN KEY(link_id) REFERENCES links(link_id))')\n",
    "\n",
    "    links = cur.execute('SELECT * FROM links').fetchall()\n",
    "    \n",
    "    total = len(links)\n",
    "    cnt = 1\n",
    "\n",
    "    for link in links:\n",
    "        print(f'{cnt}/{total}', end=' ')\n",
    "        cnt += 1\n",
    "        link_id = link[0]\n",
    "        path = link[1]\n",
    "        source_id = link[3]\n",
    "        base_url = cur.execute(f'SELECT base_url FROM sources WHERE source_id = {source_id}').fetchone()[0]\n",
    "        url = joinurl(base_url, path)\n",
    "        #print(url)\n",
    "        resp = requests.get(url)\n",
    "        try:\n",
    "            doc = fitz.open(stream=resp.content)\n",
    "            for page in doc:\n",
    "                page_num, text = extract_text(page)\n",
    "                cur.execute('INSERT INTO texts (link_id, page, text) VALUES (?, ?, ?)', (link_id, page_num, text))\n",
    "        except:\n",
    "            print(url)\n",
    "            traceback.print_exc()"
   ]
  }
 ],
 "metadata": {
  "kernelspec": {
   "display_name": "Python 3 (ipykernel)",
   "language": "python",
   "name": "python3"
  },
  "language_info": {
   "codemirror_mode": {
    "name": "ipython",
    "version": 3
   },
   "file_extension": ".py",
   "mimetype": "text/x-python",
   "name": "python",
   "nbconvert_exporter": "python",
   "pygments_lexer": "ipython3",
   "version": "3.11.4"
  }
 },
 "nbformat": 4,
 "nbformat_minor": 5
}
