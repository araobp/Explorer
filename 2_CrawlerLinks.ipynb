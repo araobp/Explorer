{
 "cells": [
  {
   "cell_type": "markdown",
   "id": "3a9b369b-1b46-491d-85b1-1b2d8c7cf4e5",
   "metadata": {},
   "source": [
    "# Crawler -- links\n",
    "\n",
    "Date: 2024/05/02-2024/05/06"
   ]
  },
  {
   "cell_type": "code",
   "execution_count": 1,
   "id": "4b4da605-18e4-4aa8-b5a8-593811bec008",
   "metadata": {},
   "outputs": [],
   "source": [
    "%run ./lib.py"
   ]
  },
  {
   "cell_type": "code",
   "execution_count": 2,
   "id": "6521321f-1830-4be6-9f82-19824ed1625b",
   "metadata": {},
   "outputs": [],
   "source": [
    "import requests\n",
    "from bs4 import BeautifulSoup\n",
    "from bs4.dammit import EncodingDetector\n",
    "import re\n",
    "import sqlite3"
   ]
  },
  {
   "cell_type": "code",
   "execution_count": 3,
   "id": "02810ac2-4064-4926-8594-979d3090dbce",
   "metadata": {},
   "outputs": [],
   "source": [
    "with sqlite3.connect(DB_PATH) as conn:\n",
    "    cur = conn.cursor()\n",
    "    cur.execute('DROP TABLE IF EXISTS links')\n",
    "    cur.execute('CREATE TABLE links (link_id INTEGER PRIMARY KEY AUTOINCREMENT, path TEXT, title TEXT, source_id INTEGER, UNIQUE(path, title, source_id), FOREIGN KEY(source_id) REFERENCES sources(source_id))')"
   ]
  },
  {
   "cell_type": "markdown",
   "id": "9ae37b0e-65a3-405f-98ed-9af2bbf49cdc",
   "metadata": {},
   "source": [
    "## 経済産業省　通商白書"
   ]
  },
  {
   "cell_type": "code",
   "execution_count": 4,
   "id": "ea8e5bac-482a-44a4-9c00-aea5495d7dd3",
   "metadata": {},
   "outputs": [
    {
     "data": {
      "text/plain": [
       "1"
      ]
     },
     "execution_count": 4,
     "metadata": {},
     "output_type": "execute_result"
    }
   ],
   "source": [
    "url_meti = \"https://www.meti.go.jp/report/tsuhaku2023/whitepaper_2023.html\"\n",
    "\n",
    "with sqlite3.connect(DB_PATH) as conn:\n",
    "    cur = conn.cursor()\n",
    "    source_id = cur.execute('SELECT source_id FROM sources WHERE org=\"経済産業省\" AND doc=\"通商白書 2023\"').fetchone()[0]\n",
    "\n",
    "source_id"
   ]
  },
  {
   "cell_type": "code",
   "execution_count": 5,
   "id": "ba98799b-f704-431a-83fd-bdb1d59cfed6",
   "metadata": {},
   "outputs": [],
   "source": [
    "resp = requests.get(url_meti)\n",
    "html_doc = resp.content.decode('utf-8')"
   ]
  },
  {
   "cell_type": "code",
   "execution_count": 6,
   "id": "4c92ccad-6985-44d2-bf61-fca7c6a3f7e4",
   "metadata": {},
   "outputs": [],
   "source": [
    "soup = BeautifulSoup(html_doc, 'html.parser')"
   ]
  },
  {
   "cell_type": "code",
   "execution_count": 7,
   "id": "5a8b7d0f-8bb7-4199-99af-dec772f0615a",
   "metadata": {},
   "outputs": [],
   "source": [
    "chapter1 = [tag for tag in soup.find_all(string='第Ⅰ部　岐路に立たされる世界経済')]"
   ]
  },
  {
   "cell_type": "code",
   "execution_count": 8,
   "id": "40f65a44-d4a0-4917-a40d-fe07becce1e4",
   "metadata": {},
   "outputs": [],
   "source": [
    "all_a = chapter1[0].find_all_next(\"a\", href=re.compile(r'^.*\\d?-\\d?-\\d?\\.pdf$'))\n",
    "\n",
    "# [[url, title], ...]\n",
    "links = [[a['href'], a.text] for a in all_a]"
   ]
  },
  {
   "cell_type": "code",
   "execution_count": 9,
   "id": "2a18bd71-3a74-46bb-8715-fc6ee19bce55",
   "metadata": {},
   "outputs": [],
   "source": [
    "with sqlite3.connect(DB_PATH) as conn:\n",
    "    cur = conn.cursor()\n",
    "    for path, title in links:\n",
    "        cur.execute(f'INSERT INTO links (path, title, source_id) VALUES(?, ?, ?)', (path, title, source_id))"
   ]
  },
  {
   "cell_type": "markdown",
   "id": "34e7f672-45d0-4456-a788-7cd8bac25da9",
   "metadata": {},
   "source": [
    "## 総務省　情報通信白書"
   ]
  },
  {
   "cell_type": "code",
   "execution_count": 10,
   "id": "ff63ec11-e830-42d0-a61d-0aefdab59d19",
   "metadata": {},
   "outputs": [
    {
     "data": {
      "text/plain": [
       "2"
      ]
     },
     "execution_count": 10,
     "metadata": {},
     "output_type": "execute_result"
    }
   ],
   "source": [
    "url_soumu = \"https://www.soumu.go.jp/johotsusintokei/whitepaper/ja/r05/pdf/index.html\"\n",
    "\n",
    "with sqlite3.connect(DB_PATH) as conn:\n",
    "    cur = conn.cursor()\n",
    "    source_id = cur.execute('SELECT source_id FROM sources WHERE org=\"総務省\" AND doc=\"情報通信白書 2023\"').fetchone()[0]\n",
    "\n",
    "source_id"
   ]
  },
  {
   "cell_type": "code",
   "execution_count": 11,
   "id": "8be02d33-e161-41b5-a1f6-842e3019280c",
   "metadata": {},
   "outputs": [],
   "source": [
    "resp = requests.get(url_soumu)"
   ]
  },
  {
   "cell_type": "code",
   "execution_count": 12,
   "id": "9eeb0ab6-03d6-4446-af14-613aaf845623",
   "metadata": {},
   "outputs": [
    {
     "data": {
      "text/plain": [
       "'shift_jis'"
      ]
     },
     "execution_count": 12,
     "metadata": {},
     "output_type": "execute_result"
    }
   ],
   "source": [
    "# Reference: https://stackoverflow.com/questions/7219361/python-and-beautifulsoup-encoding-issues\n",
    "from bs4.dammit import EncodingDetector\n",
    "html_encoding = EncodingDetector.find_declared_encoding(resp.content, is_html=True)\n",
    "html_encoding"
   ]
  },
  {
   "cell_type": "code",
   "execution_count": 13,
   "id": "34de9b40-166c-4464-b6a0-8c89d4bfa616",
   "metadata": {},
   "outputs": [
    {
     "name": "stderr",
     "output_type": "stream",
     "text": [
      "/Library/Frameworks/Python.framework/Versions/3.11/lib/python3.11/site-packages/bs4/builder/__init__.py:545: XMLParsedAsHTMLWarning: It looks like you're parsing an XML document using an HTML parser. If this really is an HTML document (maybe it's XHTML?), you can ignore or filter this warning. If it's XML, you should know that using an XML parser will be more reliable. To parse this document as XML, make sure you have the lxml package installed, and pass the keyword argument `features=\"xml\"` into the BeautifulSoup constructor.\n",
      "  warnings.warn(\n"
     ]
    },
    {
     "data": {
      "text/plain": [
       "[['n1100000.pdf', 'データ流通を支える通信インフラの高度化'],\n",
       " ['n1200000.pdf', 'データ流通とデジタルサービスの進展'],\n",
       " ['n2100000.pdf', '加速するデータ流通とデータ利活用'],\n",
       " ['n2200000.pdf', 'プラットフォーマーへのデータの集中'],\n",
       " ['n2300000.pdf', 'インターネット上での偽・誤情報の拡散等'],\n",
       " ['n3100000.pdf', 'データ流通・活用の新たな潮流'],\n",
       " ['n3200000.pdf', '豊かなデータ流通社会の実現に向けて'],\n",
       " ['n4100000.pdf', 'ICT産業の動向'],\n",
       " ['n4200000.pdf', '電気通信分野の動向'],\n",
       " ['n4300000.pdf', '放送・コンテンツ分野の動向'],\n",
       " ['n4400000.pdf', '我が国の電波の利用状況'],\n",
       " ['n4500000.pdf', '国内外におけるICT機器・端末関連の動向'],\n",
       " ['n4600000.pdf', 'プラットフォームの動向'],\n",
       " ['n4700000.pdf', 'ICTサービス及びコンテンツ・アプリケーションサービス市場の動向'],\n",
       " ['n4800000.pdf', 'データセンター市場及びクラウドサービス市場の動向'],\n",
       " ['n4900000.pdf', 'AIの動向'],\n",
       " ['n5100000.pdf', '総合的なICT政策の推進'],\n",
       " ['n5200000.pdf', '電気通信事業政策の動向'],\n",
       " ['n5300000.pdf', '電波政策の動向'],\n",
       " ['n5400000.pdf', '放送政策の動向'],\n",
       " ['n5500000.pdf', 'サイバーセキュリティ政策の動向'],\n",
       " ['n5600000.pdf', 'ICT利活用の推進'],\n",
       " ['n5700000.pdf', 'ICT技術政策の動向'],\n",
       " ['n5800000.pdf', 'ICT国際戦略の推進'],\n",
       " ['n5900000.pdf', '郵政行政の推進']]"
      ]
     },
     "execution_count": 13,
     "metadata": {},
     "output_type": "execute_result"
    }
   ],
   "source": [
    "soup = BeautifulSoup(resp.content.decode(html_encoding))\n",
    "all_a = soup.find_all('a', href=re.compile(r'^n\\d\\d00000\\.pdf$'))\n",
    "links = [[a['href'], a.text] for a in all_a]\n",
    "sorted(links)"
   ]
  },
  {
   "cell_type": "code",
   "execution_count": 14,
   "id": "9498579b-0865-4935-a967-f3ed871c3704",
   "metadata": {},
   "outputs": [],
   "source": [
    "with sqlite3.connect(DB_PATH) as conn:\n",
    "    cur = conn.cursor()\n",
    "    for path, title in links:\n",
    "        cur.execute(f'INSERT INTO links (path, title, source_id) VALUES(?, ?, ?)', (path, title, source_id))"
   ]
  },
  {
   "cell_type": "markdown",
   "id": "4801b339-c1da-495a-bca5-af931c0aaf5d",
   "metadata": {},
   "source": [
    "## 防衛省　防衛白書"
   ]
  },
  {
   "cell_type": "code",
   "execution_count": 15,
   "id": "deda4c4b-c17f-4327-9e9f-fdd584b7fb60",
   "metadata": {},
   "outputs": [
    {
     "data": {
      "text/plain": [
       "3"
      ]
     },
     "execution_count": 15,
     "metadata": {},
     "output_type": "execute_result"
    }
   ],
   "source": [
    "url_mod = 'http://www.clearing.mod.go.jp/hakusho_data/2023/pdf/index.html'\n",
    "\n",
    "with sqlite3.connect(DB_PATH) as conn:\n",
    "    cur = conn.cursor()\n",
    "    source_id = cur.execute('SELECT source_id FROM sources WHERE org=\"防衛省\" AND doc=\"防衛白書 2023\"').fetchone()[0]\n",
    "\n",
    "source_id"
   ]
  },
  {
   "cell_type": "code",
   "execution_count": 16,
   "id": "b5cfa7ad-ed98-4780-bed7-5aed1e6e27ee",
   "metadata": {},
   "outputs": [],
   "source": [
    "resp = requests.get(url_mod)"
   ]
  },
  {
   "cell_type": "code",
   "execution_count": 17,
   "id": "4bbd48b4-3c31-4d2e-9f4a-54088aca943e",
   "metadata": {},
   "outputs": [
    {
     "data": {
      "text/plain": [
       "'utf-8'"
      ]
     },
     "execution_count": 17,
     "metadata": {},
     "output_type": "execute_result"
    }
   ],
   "source": [
    "html_encoding = EncodingDetector.find_declared_encoding(resp.content, is_html=True)\n",
    "html_encoding"
   ]
  },
  {
   "cell_type": "code",
   "execution_count": 18,
   "id": "6c5d4fc8-3579-4d4e-bb2a-2c1983ed5e9d",
   "metadata": {},
   "outputs": [
    {
     "data": {
      "text/plain": [
       "[['R05000010.pdf', '刊行によせて'],\n",
       " ['R05000021.pdf', '激変する時代～10年の変化～'],\n",
       " ['R05000022.pdf', '国家防衛戦略'],\n",
       " ['R05000031.pdf', 'わが国を取り巻く安全保障環境'],\n",
       " ['R05000032.pdf', 'わが国の安全保障・防衛政策'],\n",
       " ['R05000033.pdf', '防衛目標を実現するための3つのアプローチ'],\n",
       " ['R05000034.pdf', '共通基盤などの強化'],\n",
       " ['R05010100.pdf', '概観'],\n",
       " ['R05010200.pdf', 'ロシアによるウクライナ侵略とウクライナによる防衛'],\n",
       " ['R05010301.pdf', '米国'],\n",
       " ['R05010302.pdf', '中国'],\n",
       " ['R05010303.pdf', '米国と中国の関係など'],\n",
       " ['R05010304.pdf', '朝鮮半島'],\n",
       " ['R05010305.pdf', 'ロシア'],\n",
       " ['R05010306.pdf', '大洋州'],\n",
       " ['R05010307.pdf', '東南アジア'],\n",
       " ['R05010308.pdf', '南アジア'],\n",
       " ['R05010309.pdf', '欧州・カナダ'],\n",
       " ['R05010310.pdf', 'その他の地域など（中東・アフリカを中心に）'],\n",
       " ['R05010401.pdf', '情報戦などにも広がりをみせる科学技術をめぐる動向'],\n",
       " ['R05010402.pdf', '宇宙領域をめぐる動向'],\n",
       " ['R05010403.pdf', 'サイバー領域をめぐる動向'],\n",
       " ['R05010404.pdf', '電磁波領域をめぐる動向'],\n",
       " ['R05010405.pdf', '海洋をめぐる動向'],\n",
       " ['R05010406.pdf', '大量破壊兵器の移転・拡散'],\n",
       " ['R05010407.pdf', '気候変動が安全保障環境や軍に与える影響'],\n",
       " ['R05020101.pdf', 'わが国の安全保障を確保する方策'],\n",
       " ['R05020102.pdf', '憲法と防衛政策の基本'],\n",
       " ['R05020103.pdf', 'わが国の安全保障政策の体系'],\n",
       " ['R05020200.pdf', '国家安全保障戦略'],\n",
       " ['R05020301.pdf', '防衛大綱から国家防衛戦略への変遷'],\n",
       " ['R05020302.pdf', '国家防衛戦略の内容'],\n",
       " ['R05020401.pdf', '防衛力整備計画の内容'],\n",
       " ['R05020402.pdf', '令和5年度の防衛力整備'],\n",
       " ['R05020403.pdf', '防衛関係費～防衛力抜本的強化「元年」予算～'],\n",
       " ['R05020501.pdf', '国家安全保障会議'],\n",
       " ['R05020502.pdf', '防衛省・自衛隊の組織'],\n",
       " ['R05020600.pdf', '自衛隊の行動などに関する枠組み'],\n",
       " ['R05030101.pdf', 'わが国の防衛力の抜本的強化と国全体の防衛体制の強化'],\n",
       " ['R05030102.pdf', '力による一方的な現状変更を許容しない安全保障環境の創出'],\n",
       " ['R05030103.pdf', '力による一方的な現状変更やその試みへの対応'],\n",
       " ['R05030104.pdf', 'ミサイル攻撃を含むわが国に対する侵攻への対応'],\n",
       " ['R05030105.pdf', '情報戦への対応を含む情報力強化の取組'],\n",
       " ['R05030106.pdf', '継戦能力を確保するための持続性・強靱性強化の取組'],\n",
       " ['R05030107.pdf', '国民の生命・身体・財産の保護に向けた取組'],\n",
       " ['R05030108.pdf', '平和安全法制施行後の自衛隊の活動状況など'],\n",
       " ['R05030201.pdf', '日米安全保障体制の概要'],\n",
       " ['R05030202.pdf', '日米共同の抑止力・対処力の強化'],\n",
       " ['R05030203.pdf', '同盟調整機能の強化'],\n",
       " ['R05030204.pdf', '共同対処基盤の強化'],\n",
       " ['R05030205.pdf', '在日米軍の駐留に関する取組'],\n",
       " ['R05030301.pdf', '多角的・多層的な安全保障協力の戦略的な推進に向けて'],\n",
       " ['R05030302.pdf', '海洋安全保障の確保'],\n",
       " ['R05030303.pdf', '国際平和協力活動への取組'],\n",
       " ['R05030304.pdf', '軍備管理・軍縮及び不拡散への取組'],\n",
       " ['R05040101.pdf', '防衛生産基盤の強化'],\n",
       " ['R05040102.pdf', '防衛技術基盤の強化'],\n",
       " ['R05040103.pdf', '防衛装備・技術協力と防衛装備移転の推進'],\n",
       " ['R05040104.pdf', '装備品の最適化の取組'],\n",
       " ['R05040105.pdf', '経済安全保障に関する取組'],\n",
       " ['R05040201.pdf', '人的基盤の強化'],\n",
       " ['R05040202.pdf', 'ハラスメントを一切許容しない組織環境の構築'],\n",
       " ['R05040203.pdf', 'ワークライフバランス・女性の活躍のさらなる推進'],\n",
       " ['R05040204.pdf', '衛生機能の変革'],\n",
       " ['R05040205.pdf', '政策立案機能の強化'],\n",
       " ['R05040301.pdf', '訓練・演習に関する取組'],\n",
       " ['R05040302.pdf', '各種訓練環境の整備'],\n",
       " ['R05040401.pdf', '地域社会との調和にかかる施策'],\n",
       " ['R05040402.pdf', '気候変動・環境問題への対応'],\n",
       " ['R05040403.pdf', '情報発信や公文書管理・情報公開など']]"
      ]
     },
     "execution_count": 18,
     "metadata": {},
     "output_type": "execute_result"
    }
   ],
   "source": [
    "soup = BeautifulSoup(resp.content.decode(html_encoding))\n",
    "all_a = soup.find_all('a', href=re.compile(r'^R05\\d{6}\\.pdf$'))\n",
    "links = [[a['href'], a.text] for a in all_a]\n",
    "sorted(links)"
   ]
  },
  {
   "cell_type": "code",
   "execution_count": 19,
   "id": "12bbd7d6-b046-4905-b98b-cbad862c44f3",
   "metadata": {},
   "outputs": [],
   "source": [
    "with sqlite3.connect(DB_PATH) as conn:\n",
    "    cur = conn.cursor()\n",
    "    for path, title in links:\n",
    "        cur.execute(f'INSERT INTO links (path, title, source_id) VALUES(?, ?, ?)', (path, title, source_id))"
   ]
  },
  {
   "cell_type": "markdown",
   "id": "9ae49756-b5af-4713-8f6f-e3069805cc7e",
   "metadata": {},
   "source": [
    "## 横浜市　中期計画"
   ]
  },
  {
   "cell_type": "code",
   "execution_count": 20,
   "id": "4aa6eaea-5bb5-49e6-bc37-be26c214a120",
   "metadata": {},
   "outputs": [
    {
     "data": {
      "text/plain": [
       "4"
      ]
     },
     "execution_count": 20,
     "metadata": {},
     "output_type": "execute_result"
    }
   ],
   "source": [
    "url_yokohama = \"https://www.city.yokohama.lg.jp/city-info/seisaku/hoshin/4kanen/2022-2025/chuki2022-.html\"\n",
    "\n",
    "with sqlite3.connect(DB_PATH) as conn:\n",
    "    cur = conn.cursor()\n",
    "    source_id = cur.execute('SELECT source_id FROM sources WHERE org=\"横浜市\" AND doc=\"横浜市中期計画 2022～2025\"').fetchone()[0]\n",
    "\n",
    "source_id"
   ]
  },
  {
   "cell_type": "code",
   "execution_count": 21,
   "id": "b31e6645-09b1-4060-a343-4e19631ac3ed",
   "metadata": {},
   "outputs": [],
   "source": [
    "resp = requests.get(url_yokohama)"
   ]
  },
  {
   "cell_type": "code",
   "execution_count": 22,
   "id": "cd3ef920-c7fe-4a85-bc31-58917a99600e",
   "metadata": {},
   "outputs": [
    {
     "data": {
      "text/plain": [
       "'utf-8'"
      ]
     },
     "execution_count": 22,
     "metadata": {},
     "output_type": "execute_result"
    }
   ],
   "source": [
    "html_encoding = EncodingDetector.find_declared_encoding(resp.content, is_html=True)\n",
    "html_encoding"
   ]
  },
  {
   "cell_type": "code",
   "execution_count": 23,
   "id": "8f751d82-8875-4b93-8955-eab6e1745b80",
   "metadata": {},
   "outputs": [],
   "source": [
    "soup = BeautifulSoup(resp.content.decode(html_encoding))"
   ]
  },
  {
   "cell_type": "code",
   "execution_count": 24,
   "id": "0d2f6cf3-4d4f-4e80-8671-9d326ab33c82",
   "metadata": {},
   "outputs": [
    {
     "data": {
      "text/plain": [
       "['冊子・分割ダウンロード']"
      ]
     },
     "execution_count": 24,
     "metadata": {},
     "output_type": "execute_result"
    }
   ],
   "source": [
    "head = [tag for tag in soup.find_all(string='冊子・分割ダウンロード')]\n",
    "head"
   ]
  },
  {
   "cell_type": "code",
   "execution_count": 25,
   "id": "8062729c-ad9e-4b2e-a953-417e6c7da433",
   "metadata": {},
   "outputs": [
    {
     "data": {
      "text/plain": [
       "[<a class=\"pdf\" href=\"chuki2022-.files/0070_20230213.pdf\">表紙・裏表紙（PDF：371KB）</a>,\n",
       " <a class=\"pdf\" href=\"chuki2022-.files/0071_20230213.pdf\">はじめに（PDF：955KB）</a>,\n",
       " <a class=\"pdf\" href=\"chuki2022-.files/0023_20230118.pdf\">目次（PDF：878KB）</a>,\n",
       " <a class=\"pdf\" href=\"chuki2022-.files/0024_20230118.pdf\">Ⅰ　中期計画の特徴（PDF：2,137KB）</a>,\n",
       " <a class=\"pdf\" href=\"chuki2022-.files/0072_20230213.pdf\">Ⅱ　共にめざす都市像（PDF：5,920KB）</a>,\n",
       " <a class=\"pdf\" href=\"chuki2022-.files/0026_20230118.pdf\">Ⅲ　基本戦略（PDF：6,326KB）</a>,\n",
       " <a class=\"pdf\" href=\"chuki2022-.files/0027_20230118.pdf\">Ⅳ　基本姿勢（PDF：2,039KB）</a>,\n",
       " <a class=\"pdf\" href=\"chuki2022-.files/0073_20230213.pdf\">Ⅴ　９つの戦略及び３８の政策（PDF：13,539KB）</a>,\n",
       " <a class=\"pdf\" href=\"chuki2022-.files/0029_20230118.pdf\">Ⅵ　行財政運営（PDF：3,513KB）</a>,\n",
       " <a class=\"pdf\" href=\"chuki2022-.files/0030_20230118.pdf\">Ⅶ　大都市制度（PDF：2,500KB）</a>,\n",
       " <a class=\"pdf\" href=\"chuki2022-.files/0031_20230118.pdf\">Ⅷ　DXの推進（PDF：1,705KB）</a>,\n",
       " <a class=\"pdf\" href=\"chuki2022-.files/0074_20230213.pdf\">Ⅸ　計画の前提（PDF：7,225KB）</a>,\n",
       " <a class=\"pdf\" href=\"chuki2022-.files/0033_20230118.pdf\">コラム（抜粋）（PDF：1,800KB）</a>,\n",
       " <a class=\"pdf\" href=\"chuki2022-.files/0034_20230118.pdf\">計画の策定経過（PDF：2,287KB）</a>,\n",
       " <a class=\"pdf\" href=\"chuki2022-.files/0067_20230125.pdf\">リーフレット（タブロイド版）（PDF：2,167KB）</a>,\n",
       " <a class=\"pdf\" href=\"chuki2022-.files/0060_20230118.pdf\">英語English（PDF：2,532KB）</a>,\n",
       " <a class=\"pdf\" href=\"chuki2022-.files/0061_20230118.pdf\">中国語（簡体字）简体字（PDF：2,584KB）</a>,\n",
       " <a class=\"pdf\" href=\"chuki2022-.files/0062_20230118.pdf\">ハングル한글（PDF：2,479KB）</a>,\n",
       " <a class=\"pdf\" href=\"chuki2022-.files/0098_20230323.pdf\">リーフレット（やさしい日本語版）（PDF：1,445KB）</a>]"
      ]
     },
     "execution_count": 25,
     "metadata": {},
     "output_type": "execute_result"
    }
   ],
   "source": [
    "all_a = []\n",
    "n = head[0].find_next('a')\n",
    "all_a.append(n)\n",
    "while True:\n",
    "    n = n.find_next('a', class_='pdf')\n",
    "    if n is None:\n",
    "        break\n",
    "    else:\n",
    "        all_a.append(n)\n",
    "\n",
    "all_a"
   ]
  },
  {
   "cell_type": "code",
   "execution_count": 26,
   "id": "4ff08863-1774-463a-9147-e1a0719aaa54",
   "metadata": {},
   "outputs": [
    {
     "data": {
      "text/plain": [
       "[['chuki2022-.files/0070_20230213.pdf', '表紙・裏表紙（PDF：371KB）'],\n",
       " ['chuki2022-.files/0071_20230213.pdf', 'はじめに（PDF：955KB）'],\n",
       " ['chuki2022-.files/0023_20230118.pdf', '目次（PDF：878KB）'],\n",
       " ['chuki2022-.files/0024_20230118.pdf', 'Ⅰ\\u3000中期計画の特徴（PDF：2,137KB）'],\n",
       " ['chuki2022-.files/0072_20230213.pdf', 'Ⅱ\\u3000共にめざす都市像（PDF：5,920KB）'],\n",
       " ['chuki2022-.files/0026_20230118.pdf', 'Ⅲ\\u3000基本戦略（PDF：6,326KB）'],\n",
       " ['chuki2022-.files/0027_20230118.pdf', 'Ⅳ\\u3000基本姿勢（PDF：2,039KB）'],\n",
       " ['chuki2022-.files/0073_20230213.pdf', 'Ⅴ\\u3000９つの戦略及び３８の政策（PDF：13,539KB）'],\n",
       " ['chuki2022-.files/0029_20230118.pdf', 'Ⅵ\\u3000行財政運営（PDF：3,513KB）'],\n",
       " ['chuki2022-.files/0030_20230118.pdf', 'Ⅶ\\u3000大都市制度（PDF：2,500KB）'],\n",
       " ['chuki2022-.files/0031_20230118.pdf', 'Ⅷ\\u3000DXの推進（PDF：1,705KB）'],\n",
       " ['chuki2022-.files/0074_20230213.pdf', 'Ⅸ\\u3000計画の前提（PDF：7,225KB）'],\n",
       " ['chuki2022-.files/0033_20230118.pdf', 'コラム（抜粋）（PDF：1,800KB）'],\n",
       " ['chuki2022-.files/0034_20230118.pdf', '計画の策定経過（PDF：2,287KB）'],\n",
       " ['chuki2022-.files/0067_20230125.pdf', 'リーフレット（タブロイド版）（PDF：2,167KB）'],\n",
       " ['chuki2022-.files/0060_20230118.pdf', '英語English（PDF：2,532KB）'],\n",
       " ['chuki2022-.files/0061_20230118.pdf', '中国語（簡体字）简体字（PDF：2,584KB）'],\n",
       " ['chuki2022-.files/0062_20230118.pdf', 'ハングル한글（PDF：2,479KB）'],\n",
       " ['chuki2022-.files/0098_20230323.pdf', 'リーフレット（やさしい日本語版）（PDF：1,445KB）']]"
      ]
     },
     "execution_count": 26,
     "metadata": {},
     "output_type": "execute_result"
    }
   ],
   "source": [
    "links = [[a['href'], a.text] for a in all_a]\n",
    "links"
   ]
  },
  {
   "cell_type": "code",
   "execution_count": 27,
   "id": "045b6a93-937f-400a-8999-61184de409ed",
   "metadata": {},
   "outputs": [],
   "source": [
    "with sqlite3.connect(DB_PATH) as conn:\n",
    "    cur = conn.cursor()\n",
    "    for path, title in links:\n",
    "        cur.execute(f'INSERT INTO links (path, title, source_id) VALUES(?, ?, ?)', (path, title, source_id))"
   ]
  },
  {
   "cell_type": "markdown",
   "id": "e9c39d5d-e233-426d-b2a5-753b23ead745",
   "metadata": {},
   "source": [
    "## 川崎市　総合計画"
   ]
  },
  {
   "cell_type": "code",
   "execution_count": 28,
   "id": "996ae322-c9a5-4b0c-a57c-a6da08b22f2b",
   "metadata": {},
   "outputs": [
    {
     "data": {
      "text/plain": [
       "5"
      ]
     },
     "execution_count": 28,
     "metadata": {},
     "output_type": "execute_result"
    }
   ],
   "source": [
    "url_kawasaki = \"https://www.city.kawasaki.jp/170/page/0000138364.html\"\n",
    "\n",
    "with sqlite3.connect(DB_PATH) as conn:\n",
    "    cur = conn.cursor()\n",
    "    source_id = cur.execute('SELECT source_id FROM sources WHERE org=\"川崎市\" AND doc=\"川崎市総合計画 2022〜2025\"').fetchone()[0]\n",
    "\n",
    "source_id"
   ]
  },
  {
   "cell_type": "code",
   "execution_count": 29,
   "id": "cc73c683-e476-4a6b-af37-f81830b40adc",
   "metadata": {},
   "outputs": [],
   "source": [
    "resp = requests.get(url_kawasaki)"
   ]
  },
  {
   "cell_type": "code",
   "execution_count": 30,
   "id": "14cd7705-67bc-4e41-a003-e43f15d0fa34",
   "metadata": {},
   "outputs": [
    {
     "data": {
      "text/plain": [
       "'utf-8'"
      ]
     },
     "execution_count": 30,
     "metadata": {},
     "output_type": "execute_result"
    }
   ],
   "source": [
    "html_encoding = EncodingDetector.find_declared_encoding(resp.content, is_html=True)\n",
    "html_encoding"
   ]
  },
  {
   "cell_type": "code",
   "execution_count": 31,
   "id": "b7835b40-63d0-43fb-a9db-b4033f657017",
   "metadata": {},
   "outputs": [],
   "source": [
    "soup = BeautifulSoup(resp.content.decode(html_encoding))"
   ]
  },
  {
   "cell_type": "code",
   "execution_count": 32,
   "id": "31746411-abed-4fbf-a519-fe14cfe559fa",
   "metadata": {},
   "outputs": [
    {
     "data": {
      "text/plain": [
       "[<a href=\"../cmsfiles/contents/0000138/138364/1_souron1.pdf\" target=\"_blank\"><img alt=\"\" class=\"icon\" height=\"24\" src=\"../images/pdf.gif\" width=\"22\"/>川崎市総合計画　第3期実施計画（目次・総論(1)）(PDF形式, 8.78MB)<span class=\"window\">別ウィンドウで開く</span></a>,\n",
       " <a href=\"../cmsfiles/contents/0000138/138364/2_souron2.pdf\" target=\"_blank\"><img alt=\"\" class=\"icon\" height=\"24\" src=\"../images/pdf.gif\" width=\"22\"/>川崎市総合計画　第3期実施計画（総論(2)）(PDF形式, 9.46MB)<span class=\"window\">別ウィンドウで開く</span></a>,\n",
       " <a href=\"../cmsfiles/contents/0000138/138364/3_souron3.pdf\" target=\"_blank\"><img alt=\"\" class=\"icon\" height=\"24\" src=\"../images/pdf.gif\" width=\"22\"/>川崎市総合計画　第3期実施計画（総論(3)）(PDF形式, 6.56MB)<span class=\"window\">別ウィンドウで開く</span></a>,\n",
       " <a href=\"../cmsfiles/contents/0000138/138364/4_10nensenryaku.pdf\" target=\"_blank\"><img alt=\"\" class=\"icon\" height=\"24\" src=\"../images/pdf.gif\" width=\"22\"/>川崎市総合計画　第3期実施計画（かわさき10年戦略）(PDF形式, 5.67MB)<span class=\"window\">別ウィンドウで開く</span></a>,\n",
       " <a href=\"../cmsfiles/contents/0000138/138364/5_seisaku1.pdf\" target=\"_blank\"><img alt=\"\" class=\"icon\" height=\"24\" src=\"../images/pdf.gif\" width=\"22\"/>川崎市総合計画　第3期実施計画（基本政策1）(PDF形式, 6.66MB)<span class=\"window\">別ウィンドウで開く</span></a>,\n",
       " <a href=\"../cmsfiles/contents/0000138/138364/6_seisaku2.pdf\" target=\"_blank\"><img alt=\"\" class=\"icon\" height=\"24\" src=\"../images/pdf.gif\" width=\"22\"/>川崎市総合計画　第3期実施計画（基本政策2）(PDF形式, 5.45MB)<span class=\"window\">別ウィンドウで開く</span></a>,\n",
       " <a href=\"../cmsfiles/contents/0000138/138364/7_seisaku3.pdf\" target=\"_blank\"><img alt=\"\" class=\"icon\" height=\"24\" src=\"../images/pdf.gif\" width=\"22\"/>川崎市総合計画　第3期実施計画（基本政策3）(PDF形式, 7.18MB)<span class=\"window\">別ウィンドウで開く</span></a>,\n",
       " <a href=\"../cmsfiles/contents/0000138/138364/8_seisaku4.pdf\" target=\"_blank\"><img alt=\"\" class=\"icon\" height=\"24\" src=\"../images/pdf.gif\" width=\"22\"/>川崎市総合計画　第3期実施計画（基本政策4）(PDF形式, 9.61MB)<span class=\"window\">別ウィンドウで開く</span></a>,\n",
       " <a href=\"../cmsfiles/contents/0000138/138364/9_seisaku5.pdf\" target=\"_blank\"><img alt=\"\" class=\"icon\" height=\"24\" src=\"../images/pdf.gif\" width=\"22\"/>川崎市総合計画　第3期実施計画（基本政策5）(PDF形式, 3.74MB)<span class=\"window\">別ウィンドウで開く</span></a>,\n",
       " <a href=\"../cmsfiles/contents/0000138/138364/10_kukeikaku1.pdf\" target=\"_blank\"><img alt=\"\" class=\"icon\" height=\"24\" src=\"../images/pdf.gif\" width=\"22\"/>川崎市総合計画　第3期実施計画（区計画）概要・川崎区(PDF形式, 9.23MB)<span class=\"window\">別ウィンドウで開く</span></a>,\n",
       " <a href=\"../cmsfiles/contents/0000138/138364/11_kukeikaku2.pdf\" target=\"_blank\"><img alt=\"\" class=\"icon\" height=\"24\" src=\"../images/pdf.gif\" width=\"22\"/>川崎市総合計画　第3期実施計画（区計画）幸区・中原区(PDF形式, 7.77MB)<span class=\"window\">別ウィンドウで開く</span></a>,\n",
       " <a href=\"../cmsfiles/contents/0000138/138364/12_kukeikaku3.pdf\" target=\"_blank\"><img alt=\"\" class=\"icon\" height=\"24\" src=\"../images/pdf.gif\" width=\"22\"/>川崎市総合計画　第3期実施計画（区計画）高津区・宮前区(PDF形式, 7.90MB)<span class=\"window\">別ウィンドウで開く</span></a>,\n",
       " <a href=\"../cmsfiles/contents/0000138/138364/13_kukeikaku4.pdf\" target=\"_blank\"><img alt=\"\" class=\"icon\" height=\"24\" src=\"../images/pdf.gif\" width=\"22\"/>川崎市総合計画　第3期実施計画（区計画）多摩区・麻生区(PDF形式, 8.87MB)<span class=\"window\">別ウィンドウで開く</span></a>,\n",
       " <a href=\"../cmsfiles/contents/0000138/138364/14_hyoka.pdf\" target=\"_blank\"><img alt=\"\" class=\"icon\" height=\"24\" src=\"../images/pdf.gif\" width=\"22\"/>川崎市総合計画　第3期実施計画（進行管理と評価）(PDF形式, 3.03MB)<span class=\"window\">別ウィンドウで開く</span></a>,\n",
       " <a href=\"../cmsfiles/contents/0000138/138364/15_siryo_1.pdf\" target=\"_blank\"><img alt=\"\" class=\"icon\" height=\"24\" src=\"../images/pdf.gif\" width=\"22\"/>川崎市総合計画　第3期実施計画（資料編(1)）(PDF形式, 6.02MB)<span class=\"window\">別ウィンドウで開く</span></a>,\n",
       " <a href=\"../cmsfiles/contents/0000138/138364/15_siryo_2.pdf\" target=\"_blank\"><img alt=\"\" class=\"icon\" height=\"24\" src=\"../images/pdf.gif\" width=\"22\"/>川崎市総合計画　第3期実施計画（資料編(2)）(PDF形式, 5.95MB)<span class=\"window\">別ウィンドウで開く</span></a>,\n",
       " <a href=\"../cmsfiles/contents/0000138/138364/15_siryo_3.pdf\" target=\"_blank\"><img alt=\"\" class=\"icon\" height=\"24\" src=\"../images/pdf.gif\" width=\"22\"/>川崎市総合計画　第3期実施計画（資料編(3)）(PDF形式, 7.49MB)<span class=\"window\">別ウィンドウで開く</span></a>,\n",
       " <a href=\"../cmsfiles/contents/0000138/138364/15_siryo_4.pdf\" target=\"_blank\"><img alt=\"\" class=\"icon\" height=\"24\" src=\"../images/pdf.gif\" width=\"22\"/>川崎市総合計画　第3期実施計画（資料編(4)）(PDF形式, 4.92MB)<span class=\"window\">別ウィンドウで開く</span></a>,\n",
       " <a href=\"../cmsfiles/contents/0000138/138364/15_siryo_5.pdf\" target=\"_blank\"><img alt=\"\" class=\"icon\" height=\"24\" src=\"../images/pdf.gif\" width=\"22\"/>川崎市総合計画　第3期実施計画（資料編(5)）(PDF形式, 6.96MB)<span class=\"window\">別ウィンドウで開く</span></a>,\n",
       " <a href=\"../cmsfiles/contents/0000138/138364/15_siryo_6.pdf\" target=\"_blank\"><img alt=\"\" class=\"icon\" height=\"24\" src=\"../images/pdf.gif\" width=\"22\"/>川崎市総合計画　第3期実施計画（資料編(6)）(PDF形式, 9.35MB)<span class=\"window\">別ウィンドウで開く</span></a>,\n",
       " <a href=\"../cmsfiles/contents/0000138/138364/list.pdf\" target=\"_blank\"><img alt=\"\" class=\"icon\" height=\"24\" src=\"../images/pdf.gif\" width=\"22\"/>令和5年度の取組内容等に変更のある事務事業一覧(PDF形式, 355.85KB)<span class=\"window\">別ウィンドウで開く</span></a>]"
      ]
     },
     "execution_count": 32,
     "metadata": {},
     "output_type": "execute_result"
    }
   ],
   "source": [
    "all_a = soup.find_all('a', href=re.compile(r'\\.pdf$'))\n",
    "all_a"
   ]
  },
  {
   "cell_type": "code",
   "execution_count": 33,
   "id": "9fd9d42a-77f8-4b43-ab08-03d556e50572",
   "metadata": {},
   "outputs": [
    {
     "data": {
      "text/plain": [
       "[['../cmsfiles/contents/0000138/138364/1_souron1.pdf',\n",
       "  '川崎市総合計画\\u3000第3期実施計画（目次・総論(1)）(PDF形式, 8.78MB)'],\n",
       " ['../cmsfiles/contents/0000138/138364/2_souron2.pdf',\n",
       "  '川崎市総合計画\\u3000第3期実施計画（総論(2)）(PDF形式, 9.46MB)'],\n",
       " ['../cmsfiles/contents/0000138/138364/3_souron3.pdf',\n",
       "  '川崎市総合計画\\u3000第3期実施計画（総論(3)）(PDF形式, 6.56MB)'],\n",
       " ['../cmsfiles/contents/0000138/138364/4_10nensenryaku.pdf',\n",
       "  '川崎市総合計画\\u3000第3期実施計画（かわさき10年戦略）(PDF形式, 5.67MB)'],\n",
       " ['../cmsfiles/contents/0000138/138364/5_seisaku1.pdf',\n",
       "  '川崎市総合計画\\u3000第3期実施計画（基本政策1）(PDF形式, 6.66MB)'],\n",
       " ['../cmsfiles/contents/0000138/138364/6_seisaku2.pdf',\n",
       "  '川崎市総合計画\\u3000第3期実施計画（基本政策2）(PDF形式, 5.45MB)'],\n",
       " ['../cmsfiles/contents/0000138/138364/7_seisaku3.pdf',\n",
       "  '川崎市総合計画\\u3000第3期実施計画（基本政策3）(PDF形式, 7.18MB)'],\n",
       " ['../cmsfiles/contents/0000138/138364/8_seisaku4.pdf',\n",
       "  '川崎市総合計画\\u3000第3期実施計画（基本政策4）(PDF形式, 9.61MB)'],\n",
       " ['../cmsfiles/contents/0000138/138364/9_seisaku5.pdf',\n",
       "  '川崎市総合計画\\u3000第3期実施計画（基本政策5）(PDF形式, 3.74MB)'],\n",
       " ['../cmsfiles/contents/0000138/138364/10_kukeikaku1.pdf',\n",
       "  '川崎市総合計画\\u3000第3期実施計画（区計画）概要・川崎区(PDF形式, 9.23MB)'],\n",
       " ['../cmsfiles/contents/0000138/138364/11_kukeikaku2.pdf',\n",
       "  '川崎市総合計画\\u3000第3期実施計画（区計画）幸区・中原区(PDF形式, 7.77MB)'],\n",
       " ['../cmsfiles/contents/0000138/138364/12_kukeikaku3.pdf',\n",
       "  '川崎市総合計画\\u3000第3期実施計画（区計画）高津区・宮前区(PDF形式, 7.90MB)'],\n",
       " ['../cmsfiles/contents/0000138/138364/13_kukeikaku4.pdf',\n",
       "  '川崎市総合計画\\u3000第3期実施計画（区計画）多摩区・麻生区(PDF形式, 8.87MB)'],\n",
       " ['../cmsfiles/contents/0000138/138364/14_hyoka.pdf',\n",
       "  '川崎市総合計画\\u3000第3期実施計画（進行管理と評価）(PDF形式, 3.03MB)'],\n",
       " ['../cmsfiles/contents/0000138/138364/15_siryo_1.pdf',\n",
       "  '川崎市総合計画\\u3000第3期実施計画（資料編(1)）(PDF形式, 6.02MB)'],\n",
       " ['../cmsfiles/contents/0000138/138364/15_siryo_2.pdf',\n",
       "  '川崎市総合計画\\u3000第3期実施計画（資料編(2)）(PDF形式, 5.95MB)'],\n",
       " ['../cmsfiles/contents/0000138/138364/15_siryo_3.pdf',\n",
       "  '川崎市総合計画\\u3000第3期実施計画（資料編(3)）(PDF形式, 7.49MB)'],\n",
       " ['../cmsfiles/contents/0000138/138364/15_siryo_4.pdf',\n",
       "  '川崎市総合計画\\u3000第3期実施計画（資料編(4)）(PDF形式, 4.92MB)'],\n",
       " ['../cmsfiles/contents/0000138/138364/15_siryo_5.pdf',\n",
       "  '川崎市総合計画\\u3000第3期実施計画（資料編(5)）(PDF形式, 6.96MB)'],\n",
       " ['../cmsfiles/contents/0000138/138364/15_siryo_6.pdf',\n",
       "  '川崎市総合計画\\u3000第3期実施計画（資料編(6)）(PDF形式, 9.35MB)'],\n",
       " ['../cmsfiles/contents/0000138/138364/list.pdf',\n",
       "  '令和5年度の取組内容等に変更のある事務事業一覧(PDF形式, 355.85KB)']]"
      ]
     },
     "execution_count": 33,
     "metadata": {},
     "output_type": "execute_result"
    }
   ],
   "source": [
    "links = [[a['href'], a.text.replace('別ウィンドウで開く', '')] for a in all_a]\n",
    "links"
   ]
  },
  {
   "cell_type": "code",
   "execution_count": 34,
   "id": "21a43d80-9367-4ae4-9ca1-8ffd74996f98",
   "metadata": {},
   "outputs": [],
   "source": [
    "with sqlite3.connect(DB_PATH) as conn:\n",
    "    cur = conn.cursor()\n",
    "    for path, title in links:\n",
    "        cur.execute(f'INSERT INTO links (path, title, source_id) VALUES(?, ?, ?)', (path, title, source_id))"
   ]
  }
 ],
 "metadata": {
  "kernelspec": {
   "display_name": "Python 3 (ipykernel)",
   "language": "python",
   "name": "python3"
  },
  "language_info": {
   "codemirror_mode": {
    "name": "ipython",
    "version": 3
   },
   "file_extension": ".py",
   "mimetype": "text/x-python",
   "name": "python",
   "nbconvert_exporter": "python",
   "pygments_lexer": "ipython3",
   "version": "3.11.4"
  }
 },
 "nbformat": 4,
 "nbformat_minor": 5
}
