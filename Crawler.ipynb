{
 "cells": [
  {
   "cell_type": "markdown",
   "id": "3a9b369b-1b46-491d-85b1-1b2d8c7cf4e5",
   "metadata": {},
   "source": [
    "# Crawler\n",
    "\n",
    "Date: 2024/05/02-"
   ]
  },
  {
   "cell_type": "markdown",
   "id": "f8adf00d-8a97-4851-a540-8682aa47f79b",
   "metadata": {},
   "source": [
    "## 前処理\n",
    "- Beautiful SoapでPDFファイルのリンクリスト作成\n",
    "- PyMuPDFで各PDFファイルのText抽出しSQLiteへ格納\n",
    "- 同時にspaCyでNERを行い、その結果をSQLiteへ格納\n",
    "\n",
    "```\n",
    "Table \"sources\" <= 経産省、総務省、XX株式会社といった白書やIR資料を提供している団体名\n",
    "base_url(primary key), homepage_url, org, doc, doc_url\n",
    "\n",
    "Table \"links\" <= Beautiful Soapで抽出したPDFファイルのURl\n",
    "id, path, title, fk(sources:base_url)\n",
    "\n",
    "Table \"texts\" <= PyMuPDFで抽出したテキスト\n",
    "fk(links:link_id), page, text\n",
    "\n",
    "Table \"named_entities\" <= spaCyで抽出したNamed Entity\n",
    "fk(links:link_id), page, named_entity, label\n",
    "```\n",
    "\n",
    "## APIサーバ (Flaskで実装)\n",
    "\n",
    "#### /sources\n",
    "\n",
    "\\[{base_url: \\<base_url\\>, homepage_url: \\<homepage_url\\>, org: \\<base_url\\>, doc: \\<doc\\>, doc_url: \\<doc_url\\>},...\\]\n",
    "\n",
    "PDFファイル検索対象となる団体のリストを返信（今回は経済産業省のみ）。\n",
    "\n",
    "#### /search?base_url=\\<base_url\\>&keywords=\\<keywords\\>\n",
    "\n",
    "\\[{link_id: \\<link\\>, title: \\<title\\>, page: \\<page\\>, text: \\<text\\>, spans: {keyword: \\[\\[\\<start\\>, \\<end\\>\\],...\\],...}\\]\n",
    "\n",
    "該当キーワードを含むPDFファイルのパスとページ番号を返信。base_urlを指定しない場合、全ての団体を検索対象とする。\n",
    "\n",
    "#### /highlight?link_id=\\<link_id\\>&page=\\<page\\>&keywords=\\<keywords\\>&all_pages=\\<all_pages\\>\n",
    "\n",
    "該当キーワードをハイライトしてPDFを返送。指定ページの前後で合計３ページ分を返信。"
   ]
  },
  {
   "cell_type": "markdown",
   "id": "e021bb7c-5915-43b6-bf42-f1d891f6b5fe",
   "metadata": {},
   "source": [
    "## Table: sources"
   ]
  },
  {
   "cell_type": "code",
   "execution_count": 25,
   "id": "7e4c54cd-e22d-42f0-934e-0d585e97a5f7",
   "metadata": {},
   "outputs": [],
   "source": [
    "# 2023年度(令和5年)白書\n",
    "ORGS = [\n",
    "    [\"経済産業省\",\n",
    "     \"通商白書\",\n",
    "     \"https://www.meti.go.jp\",\n",
    "     \"https://www.meti.go.jp\",\n",
    "     \"https://www.meti.go.jp/report/tsuhaku2023/whitepaper_2023.html\"],\n",
    "    [\"総務省\",\n",
    "     \"情報通信白書\",\n",
    "     \"https://www.soumu.go.jp\",\n",
    "     \"https://www.soumu.go.jp/johotsusintokei/whitepaper/ja/r05/pdf\",\n",
    "     \"https://www.soumu.go.jp/johotsusintokei/whitepaper/ja/r05/pdf/index.html\"],\n",
    "    [\"防衛省\",\n",
    "     \"防衛白書\",\n",
    "     \"https://www.mod.go.jp/\",\n",
    "     \"http://www.clearing.mod.go.jp/hakusho_data/2023/pdf\",\n",
    "     \"http://www.clearing.mod.go.jp/hakusho_data/2023/pdf/index.html\"]\n",
    "]"
   ]
  },
  {
   "cell_type": "code",
   "execution_count": 2,
   "id": "b08a8853-8983-4211-81c8-7bdde7178f5c",
   "metadata": {},
   "outputs": [],
   "source": [
    "import sqlite3\n",
    "\n",
    "DB_PATH = 'database/search.db'\n",
    "\n",
    "with sqlite3.connect(DB_PATH) as conn:\n",
    "    cur = conn.cursor()\n",
    "    cur.execute('DROP TABLE IF EXISTS sources')\n",
    "    cur.execute('CREATE TABLE sources (base_url TEXT PRIMARY KEY, homepage_url TEXT, org TEXT, doc TEXT, doc_url TEXT, UNIQUE(homepage_url, org, doc, doc_url))')\n",
    "    for o in ORGS:\n",
    "        org = o[0]\n",
    "        doc = o[1]\n",
    "        homepage_url =o[2]\n",
    "        base_url = o[3]\n",
    "        doc_url = o[4]\n",
    "        cur.execute(f'INSERT INTO sources (base_url, homepage_url, org, doc, doc_url) VALUES (\"{base_url}\", \"{homepage_url}\", \"{org}\", \"{doc}\", \"{doc_url}\")')"
   ]
  },
  {
   "cell_type": "markdown",
   "id": "6e063fa0-a080-4e01-a28f-d7a28a996f5d",
   "metadata": {},
   "source": [
    "## Table: links\n",
    "\n",
    "PDFリンク抽出"
   ]
  },
  {
   "cell_type": "code",
   "execution_count": 3,
   "id": "1ceb4ea7-9cfe-471e-b32c-d515376d6e14",
   "metadata": {},
   "outputs": [
    {
     "data": {
      "text/plain": [
       "[('http://www.clearing.mod.go.jp/hakusho_data/2023/pdf',),\n",
       " ('https://www.meti.go.jp',),\n",
       " ('https://www.soumu.go.jp/johotsusintokei/whitepaper/ja/r05/pdf',)]"
      ]
     },
     "execution_count": 3,
     "metadata": {},
     "output_type": "execute_result"
    }
   ],
   "source": [
    "with sqlite3.connect(DB_PATH) as conn:\n",
    "    cur = conn.cursor()\n",
    "    base_urls = cur.execute('SELECT base_url FROM sources').fetchall()\n",
    "\n",
    "base_urls"
   ]
  },
  {
   "cell_type": "markdown",
   "id": "c40530db-edad-4832-8188-eabe0a3b0517",
   "metadata": {},
   "source": [
    "## 各省庁向け準備"
   ]
  },
  {
   "cell_type": "code",
   "execution_count": 4,
   "id": "6521321f-1830-4be6-9f82-19824ed1625b",
   "metadata": {},
   "outputs": [],
   "source": [
    "import requests\n",
    "from bs4 import BeautifulSoup\n",
    "import re"
   ]
  },
  {
   "cell_type": "code",
   "execution_count": 5,
   "id": "02810ac2-4064-4926-8594-979d3090dbce",
   "metadata": {},
   "outputs": [],
   "source": [
    "with sqlite3.connect(DB_PATH) as conn:\n",
    "    cur = conn.cursor()\n",
    "    cur.execute('DROP TABLE IF EXISTS links')\n",
    "    cur.execute('CREATE TABLE links (id INTEGER PRIMARY KEY AUTOINCREMENT, path TEXT, title TEXT, base_url TEXT, UNIQUE(path, title, base_url), FOREIGN KEY(base_url) REFERENCES sources(base_url))')"
   ]
  },
  {
   "cell_type": "markdown",
   "id": "9ae37b0e-65a3-405f-98ed-9af2bbf49cdc",
   "metadata": {},
   "source": [
    "### 経済産業省　通商白書"
   ]
  },
  {
   "cell_type": "code",
   "execution_count": 6,
   "id": "ea8e5bac-482a-44a4-9c00-aea5495d7dd3",
   "metadata": {},
   "outputs": [
    {
     "data": {
      "text/plain": [
       "'https://www.meti.go.jp'"
      ]
     },
     "execution_count": 6,
     "metadata": {},
     "output_type": "execute_result"
    }
   ],
   "source": [
    "url_meti = \"https://www.meti.go.jp/report/tsuhaku2023/whitepaper_2023.html\"\n",
    "\n",
    "with sqlite3.connect(DB_PATH) as conn:\n",
    "    cur = conn.cursor()\n",
    "    base_url = cur.execute('SELECT base_url FROM sources WHERE org=\"経済産業省\" AND doc=\"通商白書\"').fetchone()[0]\n",
    "\n",
    "base_url"
   ]
  },
  {
   "cell_type": "code",
   "execution_count": 7,
   "id": "ba98799b-f704-431a-83fd-bdb1d59cfed6",
   "metadata": {},
   "outputs": [],
   "source": [
    "resp = requests.get(url_meti)\n",
    "html_doc = resp.content.decode('utf-8')"
   ]
  },
  {
   "cell_type": "code",
   "execution_count": 8,
   "id": "4c92ccad-6985-44d2-bf61-fca7c6a3f7e4",
   "metadata": {},
   "outputs": [],
   "source": [
    "soup = BeautifulSoup(html_doc, 'html.parser')"
   ]
  },
  {
   "cell_type": "code",
   "execution_count": 9,
   "id": "5a8b7d0f-8bb7-4199-99af-dec772f0615a",
   "metadata": {},
   "outputs": [],
   "source": [
    "chapter1 = [tag for tag in soup.find_all(string='第Ⅰ部　岐路に立たされる世界経済')]"
   ]
  },
  {
   "cell_type": "code",
   "execution_count": 10,
   "id": "40f65a44-d4a0-4917-a40d-fe07becce1e4",
   "metadata": {},
   "outputs": [],
   "source": [
    "all_a = chapter1[0].find_all_next(\"a\", href=re.compile(r'^.*\\d?-\\d?-\\d?\\.pdf$'))\n",
    "\n",
    "# [[url, title], ...]\n",
    "links = [[a['href'], a.text] for a in all_a]"
   ]
  },
  {
   "cell_type": "code",
   "execution_count": 11,
   "id": "2a18bd71-3a74-46bb-8715-fc6ee19bce55",
   "metadata": {},
   "outputs": [],
   "source": [
    "with sqlite3.connect(DB_PATH) as conn:\n",
    "    cur = conn.cursor()\n",
    "    for path, title in links:\n",
    "        cur.execute(f'INSERT INTO links (path, title, base_url) VALUES(?, ?, ?)', (path, title, base_url))"
   ]
  },
  {
   "cell_type": "markdown",
   "id": "34e7f672-45d0-4456-a788-7cd8bac25da9",
   "metadata": {},
   "source": [
    "### 総務省　情報通信白書"
   ]
  },
  {
   "cell_type": "code",
   "execution_count": 12,
   "id": "ff63ec11-e830-42d0-a61d-0aefdab59d19",
   "metadata": {},
   "outputs": [
    {
     "data": {
      "text/plain": [
       "'https://www.soumu.go.jp/johotsusintokei/whitepaper/ja/r05/pdf'"
      ]
     },
     "execution_count": 12,
     "metadata": {},
     "output_type": "execute_result"
    }
   ],
   "source": [
    "url_soumu = \"https://www.soumu.go.jp/johotsusintokei/whitepaper/ja/r05/pdf/index.html\"\n",
    "\n",
    "with sqlite3.connect(DB_PATH) as conn:\n",
    "    cur = conn.cursor()\n",
    "    base_url = cur.execute('SELECT base_url FROM sources WHERE org=\"総務省\" AND doc=\"情報通信白書\"').fetchone()[0]\n",
    "\n",
    "base_url"
   ]
  },
  {
   "cell_type": "code",
   "execution_count": 13,
   "id": "8be02d33-e161-41b5-a1f6-842e3019280c",
   "metadata": {},
   "outputs": [],
   "source": [
    "resp = requests.get(url_soumu)"
   ]
  },
  {
   "cell_type": "code",
   "execution_count": 14,
   "id": "9eeb0ab6-03d6-4446-af14-613aaf845623",
   "metadata": {},
   "outputs": [
    {
     "data": {
      "text/plain": [
       "'shift_jis'"
      ]
     },
     "execution_count": 14,
     "metadata": {},
     "output_type": "execute_result"
    }
   ],
   "source": [
    "# Reference: https://stackoverflow.com/questions/7219361/python-and-beautifulsoup-encoding-issues\n",
    "from bs4.dammit import EncodingDetector\n",
    "html_encoding = EncodingDetector.find_declared_encoding(resp.content, is_html=True)\n",
    "html_encoding"
   ]
  },
  {
   "cell_type": "code",
   "execution_count": 15,
   "id": "34de9b40-166c-4464-b6a0-8c89d4bfa616",
   "metadata": {},
   "outputs": [
    {
     "name": "stderr",
     "output_type": "stream",
     "text": [
      "/Library/Frameworks/Python.framework/Versions/3.11/lib/python3.11/site-packages/bs4/builder/__init__.py:545: XMLParsedAsHTMLWarning: It looks like you're parsing an XML document using an HTML parser. If this really is an HTML document (maybe it's XHTML?), you can ignore or filter this warning. If it's XML, you should know that using an XML parser will be more reliable. To parse this document as XML, make sure you have the lxml package installed, and pass the keyword argument `features=\"xml\"` into the BeautifulSoup constructor.\n",
      "  warnings.warn(\n"
     ]
    },
    {
     "data": {
      "text/plain": [
       "[['n1100000.pdf', 'データ流通を支える通信インフラの高度化'],\n",
       " ['n1200000.pdf', 'データ流通とデジタルサービスの進展'],\n",
       " ['n2100000.pdf', '加速するデータ流通とデータ利活用'],\n",
       " ['n2200000.pdf', 'プラットフォーマーへのデータの集中'],\n",
       " ['n2300000.pdf', 'インターネット上での偽・誤情報の拡散等'],\n",
       " ['n3100000.pdf', 'データ流通・活用の新たな潮流'],\n",
       " ['n3200000.pdf', '豊かなデータ流通社会の実現に向けて'],\n",
       " ['n4100000.pdf', 'ICT産業の動向'],\n",
       " ['n4200000.pdf', '電気通信分野の動向'],\n",
       " ['n4300000.pdf', '放送・コンテンツ分野の動向'],\n",
       " ['n4400000.pdf', '我が国の電波の利用状況'],\n",
       " ['n4500000.pdf', '国内外におけるICT機器・端末関連の動向'],\n",
       " ['n4600000.pdf', 'プラットフォームの動向'],\n",
       " ['n4700000.pdf', 'ICTサービス及びコンテンツ・アプリケーションサービス市場の動向'],\n",
       " ['n4800000.pdf', 'データセンター市場及びクラウドサービス市場の動向'],\n",
       " ['n4900000.pdf', 'AIの動向'],\n",
       " ['n5100000.pdf', '総合的なICT政策の推進'],\n",
       " ['n5200000.pdf', '電気通信事業政策の動向'],\n",
       " ['n5300000.pdf', '電波政策の動向'],\n",
       " ['n5400000.pdf', '放送政策の動向'],\n",
       " ['n5500000.pdf', 'サイバーセキュリティ政策の動向'],\n",
       " ['n5600000.pdf', 'ICT利活用の推進'],\n",
       " ['n5700000.pdf', 'ICT技術政策の動向'],\n",
       " ['n5800000.pdf', 'ICT国際戦略の推進'],\n",
       " ['n5900000.pdf', '郵政行政の推進']]"
      ]
     },
     "execution_count": 15,
     "metadata": {},
     "output_type": "execute_result"
    }
   ],
   "source": [
    "soup = BeautifulSoup(resp.content.decode(html_encoding))\n",
    "all_a = soup.find_all('a', href=re.compile(r'^n\\d\\d00000\\.pdf$'))\n",
    "links = [[a['href'], a.text] for a in all_a]\n",
    "sorted(links)"
   ]
  },
  {
   "cell_type": "code",
   "execution_count": 16,
   "id": "9498579b-0865-4935-a967-f3ed871c3704",
   "metadata": {},
   "outputs": [],
   "source": [
    "with sqlite3.connect(DB_PATH) as conn:\n",
    "    cur = conn.cursor()\n",
    "    for path, title in links:\n",
    "        cur.execute(f'INSERT INTO links (path, title, base_url) VALUES(?, ?, ?)', (path, title, base_url))"
   ]
  },
  {
   "cell_type": "markdown",
   "id": "4801b339-c1da-495a-bca5-af931c0aaf5d",
   "metadata": {},
   "source": [
    "### 防衛省　防衛白書"
   ]
  },
  {
   "cell_type": "code",
   "execution_count": 17,
   "id": "deda4c4b-c17f-4327-9e9f-fdd584b7fb60",
   "metadata": {},
   "outputs": [
    {
     "data": {
      "text/plain": [
       "'http://www.clearing.mod.go.jp/hakusho_data/2023/pdf'"
      ]
     },
     "execution_count": 17,
     "metadata": {},
     "output_type": "execute_result"
    }
   ],
   "source": [
    "url_mod = 'http://www.clearing.mod.go.jp/hakusho_data/2023/pdf/index.html'\n",
    "\n",
    "with sqlite3.connect(DB_PATH) as conn:\n",
    "    cur = conn.cursor()\n",
    "    base_url = cur.execute('SELECT base_url FROM sources WHERE org=\"防衛省\" AND doc=\"防衛白書\"').fetchone()[0]\n",
    "\n",
    "base_url"
   ]
  },
  {
   "cell_type": "code",
   "execution_count": 18,
   "id": "b5cfa7ad-ed98-4780-bed7-5aed1e6e27ee",
   "metadata": {},
   "outputs": [],
   "source": [
    "resp = requests.get(url_mod)"
   ]
  },
  {
   "cell_type": "code",
   "execution_count": 19,
   "id": "4bbd48b4-3c31-4d2e-9f4a-54088aca943e",
   "metadata": {},
   "outputs": [
    {
     "data": {
      "text/plain": [
       "'utf-8'"
      ]
     },
     "execution_count": 19,
     "metadata": {},
     "output_type": "execute_result"
    }
   ],
   "source": [
    "from bs4.dammit import EncodingDetector\n",
    "html_encoding = EncodingDetector.find_declared_encoding(resp.content, is_html=True)\n",
    "html_encoding"
   ]
  },
  {
   "cell_type": "code",
   "execution_count": 20,
   "id": "6c5d4fc8-3579-4d4e-bb2a-2c1983ed5e9d",
   "metadata": {},
   "outputs": [
    {
     "data": {
      "text/plain": [
       "[['R05000010.pdf', '刊行によせて'],\n",
       " ['R05000021.pdf', '激変する時代～10年の変化～'],\n",
       " ['R05000022.pdf', '国家防衛戦略'],\n",
       " ['R05000031.pdf', 'わが国を取り巻く安全保障環境'],\n",
       " ['R05000032.pdf', 'わが国の安全保障・防衛政策'],\n",
       " ['R05000033.pdf', '防衛目標を実現するための3つのアプローチ'],\n",
       " ['R05000034.pdf', '共通基盤などの強化'],\n",
       " ['R05010100.pdf', '概観'],\n",
       " ['R05010200.pdf', 'ロシアによるウクライナ侵略とウクライナによる防衛'],\n",
       " ['R05010301.pdf', '米国'],\n",
       " ['R05010302.pdf', '中国'],\n",
       " ['R05010303.pdf', '米国と中国の関係など'],\n",
       " ['R05010304.pdf', '朝鮮半島'],\n",
       " ['R05010305.pdf', 'ロシア'],\n",
       " ['R05010306.pdf', '大洋州'],\n",
       " ['R05010307.pdf', '東南アジア'],\n",
       " ['R05010308.pdf', '南アジア'],\n",
       " ['R05010309.pdf', '欧州・カナダ'],\n",
       " ['R05010310.pdf', 'その他の地域など（中東・アフリカを中心に）'],\n",
       " ['R05010401.pdf', '情報戦などにも広がりをみせる科学技術をめぐる動向'],\n",
       " ['R05010402.pdf', '宇宙領域をめぐる動向'],\n",
       " ['R05010403.pdf', 'サイバー領域をめぐる動向'],\n",
       " ['R05010404.pdf', '電磁波領域をめぐる動向'],\n",
       " ['R05010405.pdf', '海洋をめぐる動向'],\n",
       " ['R05010406.pdf', '大量破壊兵器の移転・拡散'],\n",
       " ['R05010407.pdf', '気候変動が安全保障環境や軍に与える影響'],\n",
       " ['R05020101.pdf', 'わが国の安全保障を確保する方策'],\n",
       " ['R05020102.pdf', '憲法と防衛政策の基本'],\n",
       " ['R05020103.pdf', 'わが国の安全保障政策の体系'],\n",
       " ['R05020200.pdf', '国家安全保障戦略'],\n",
       " ['R05020301.pdf', '防衛大綱から国家防衛戦略への変遷'],\n",
       " ['R05020302.pdf', '国家防衛戦略の内容'],\n",
       " ['R05020401.pdf', '防衛力整備計画の内容'],\n",
       " ['R05020402.pdf', '令和5年度の防衛力整備'],\n",
       " ['R05020403.pdf', '防衛関係費～防衛力抜本的強化「元年」予算～'],\n",
       " ['R05020501.pdf', '国家安全保障会議'],\n",
       " ['R05020502.pdf', '防衛省・自衛隊の組織'],\n",
       " ['R05020600.pdf', '自衛隊の行動などに関する枠組み'],\n",
       " ['R05030101.pdf', 'わが国の防衛力の抜本的強化と国全体の防衛体制の強化'],\n",
       " ['R05030102.pdf', '力による一方的な現状変更を許容しない安全保障環境の創出'],\n",
       " ['R05030103.pdf', '力による一方的な現状変更やその試みへの対応'],\n",
       " ['R05030104.pdf', 'ミサイル攻撃を含むわが国に対する侵攻への対応'],\n",
       " ['R05030105.pdf', '情報戦への対応を含む情報力強化の取組'],\n",
       " ['R05030106.pdf', '継戦能力を確保するための持続性・強靱性強化の取組'],\n",
       " ['R05030107.pdf', '国民の生命・身体・財産の保護に向けた取組'],\n",
       " ['R05030108.pdf', '平和安全法制施行後の自衛隊の活動状況など'],\n",
       " ['R05030201.pdf', '日米安全保障体制の概要'],\n",
       " ['R05030202.pdf', '日米共同の抑止力・対処力の強化'],\n",
       " ['R05030203.pdf', '同盟調整機能の強化'],\n",
       " ['R05030204.pdf', '共同対処基盤の強化'],\n",
       " ['R05030205.pdf', '在日米軍の駐留に関する取組'],\n",
       " ['R05030301.pdf', '多角的・多層的な安全保障協力の戦略的な推進に向けて'],\n",
       " ['R05030302.pdf', '海洋安全保障の確保'],\n",
       " ['R05030303.pdf', '国際平和協力活動への取組'],\n",
       " ['R05030304.pdf', '軍備管理・軍縮及び不拡散への取組'],\n",
       " ['R05040101.pdf', '防衛生産基盤の強化'],\n",
       " ['R05040102.pdf', '防衛技術基盤の強化'],\n",
       " ['R05040103.pdf', '防衛装備・技術協力と防衛装備移転の推進'],\n",
       " ['R05040104.pdf', '装備品の最適化の取組'],\n",
       " ['R05040105.pdf', '経済安全保障に関する取組'],\n",
       " ['R05040201.pdf', '人的基盤の強化'],\n",
       " ['R05040202.pdf', 'ハラスメントを一切許容しない組織環境の構築'],\n",
       " ['R05040203.pdf', 'ワークライフバランス・女性の活躍のさらなる推進'],\n",
       " ['R05040204.pdf', '衛生機能の変革'],\n",
       " ['R05040205.pdf', '政策立案機能の強化'],\n",
       " ['R05040301.pdf', '訓練・演習に関する取組'],\n",
       " ['R05040302.pdf', '各種訓練環境の整備'],\n",
       " ['R05040401.pdf', '地域社会との調和にかかる施策'],\n",
       " ['R05040402.pdf', '気候変動・環境問題への対応'],\n",
       " ['R05040403.pdf', '情報発信や公文書管理・情報公開など']]"
      ]
     },
     "execution_count": 20,
     "metadata": {},
     "output_type": "execute_result"
    }
   ],
   "source": [
    "soup = BeautifulSoup(resp.content.decode(html_encoding))\n",
    "soup.content\n",
    "all_a = soup.find_all('a', href=re.compile(r'^R05\\d{6}\\.pdf$'))\n",
    "links = [[a['href'], a.text] for a in all_a]\n",
    "sorted(links)"
   ]
  },
  {
   "cell_type": "code",
   "execution_count": 21,
   "id": "12bbd7d6-b046-4905-b98b-cbad862c44f3",
   "metadata": {},
   "outputs": [],
   "source": [
    "with sqlite3.connect(DB_PATH) as conn:\n",
    "    cur = conn.cursor()\n",
    "    for path, title in links:\n",
    "        cur.execute(f'INSERT INTO links (path, title, base_url) VALUES(?, ?, ?)', (path, title, base_url))"
   ]
  },
  {
   "cell_type": "markdown",
   "id": "468361ee-2534-4109-a174-7e7a19edcc61",
   "metadata": {},
   "source": [
    "## Table: texts\n",
    "\n",
    "防衛省のサイトは反応悪い。しかし、防衛省発行の白書は写真豊富で読んでいて面白い。"
   ]
  },
  {
   "cell_type": "code",
   "execution_count": 23,
   "id": "4f93344d-bd7f-4cde-be1c-a262a6ef8731",
   "metadata": {
    "scrolled": true
   },
   "outputs": [
    {
     "name": "stdout",
     "output_type": "stream",
     "text": [
      "1/129 2/129 3/129 4/129 5/129 6/129 7/129 8/129 9/129 10/129 11/129 12/129 13/129 14/129 15/129 16/129 17/129 18/129 19/129 20/129 21/129 22/129 23/129 24/129 25/129 26/129 27/129 28/129 29/129 30/129 31/129 32/129 33/129 34/129 35/129 36/129 37/129 38/129 39/129 40/129 41/129 42/129 43/129 44/129 45/129 46/129 47/129 48/129 49/129 50/129 51/129 52/129 53/129 54/129 55/129 56/129 57/129 58/129 59/129 60/129 61/129 62/129 63/129 64/129 65/129 66/129 67/129 68/129 69/129 70/129 71/129 72/129 73/129 74/129 75/129 76/129 77/129 78/129 79/129 80/129 81/129 82/129 83/129 84/129 85/129 86/129 87/129 88/129 89/129 90/129 91/129 92/129 93/129 94/129 95/129 96/129 97/129 98/129 99/129 100/129 101/129 102/129 103/129 104/129 105/129 106/129 107/129 108/129 109/129 110/129 111/129 112/129 113/129 114/129 115/129 116/129 117/129 118/129 119/129 120/129 121/129 122/129 123/129 124/129 125/129 126/129 127/129 128/129 129/129 "
     ]
    }
   ],
   "source": [
    "import traceback\n",
    "import fitz\n",
    "\n",
    "# Reference: https://stackoverflow.com/questions/67558627/problem-while-joining-two-url-components-with-urllib\n",
    "# urljoinは使わない方が良い。スラッシュありなしで結果が異なるため。\n",
    "def joinurl(baseurl, path):\n",
    "    return '/'.join([baseurl.rstrip('/'), path.lstrip('/')])\n",
    "\n",
    "extract_text = lambda page: (page.number, page.get_text(\"text\").replace('\\n', ''))\n",
    "\n",
    "with sqlite3.connect(DB_PATH) as conn:\n",
    "    cur = conn.cursor()\n",
    "    cur.execute('DROP TABLE IF EXISTS texts')\n",
    "    cur.execute('CREATE TABLE texts (link_id INTEGER, page INTEGER, text TEXT, UNIQUE(link_id, page, text), FOREIGN KEY(link_id) REFERENCES links(id))')\n",
    "\n",
    "    links = cur.execute('SELECT * FROM links').fetchall()\n",
    "    \n",
    "    total = len(links)\n",
    "    cnt = 1\n",
    "\n",
    "    for link in links:\n",
    "        print(f'{cnt}/{total}', end=' ')\n",
    "        cnt += 1\n",
    "        link_id = link[0]\n",
    "        url = joinurl(link[3], link[1])\n",
    "        #print(url)\n",
    "        resp = requests.get(url)\n",
    "        try:\n",
    "            doc = fitz.open(stream=resp.content)\n",
    "            for page in doc:\n",
    "                page_num, text = extract_text(page)\n",
    "                cur.execute('INSERT INTO texts (link_id, page, text) VALUES (?, ?, ?)', (link_id, page_num, text))\n",
    "        except:\n",
    "            print(url)\n",
    "            traceback.print_exc()"
   ]
  }
 ],
 "metadata": {
  "kernelspec": {
   "display_name": "Python 3 (ipykernel)",
   "language": "python",
   "name": "python3"
  },
  "language_info": {
   "codemirror_mode": {
    "name": "ipython",
    "version": 3
   },
   "file_extension": ".py",
   "mimetype": "text/x-python",
   "name": "python",
   "nbconvert_exporter": "python",
   "pygments_lexer": "ipython3",
   "version": "3.11.4"
  }
 },
 "nbformat": 4,
 "nbformat_minor": 5
}
