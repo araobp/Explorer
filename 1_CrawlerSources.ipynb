{
 "cells": [
  {
   "cell_type": "markdown",
   "id": "3a9b369b-1b46-491d-85b1-1b2d8c7cf4e5",
   "metadata": {},
   "source": [
    "# Crawler -- sources\n",
    "\n",
    "Date: 2024/05/02-2024/05/06"
   ]
  },
  {
   "cell_type": "markdown",
   "id": "f8adf00d-8a97-4851-a540-8682aa47f79b",
   "metadata": {},
   "source": [
    "## 前処理\n",
    "- Beautiful SoapでPDFファイルのリンクリスト作成\n",
    "- PyMuPDFで各PDFファイルのText抽出しSQLiteへ格納\n",
    "- 同時にspaCyでNERを行い、その結果をSQLiteへ格納\n",
    "\n",
    "```\n",
    "Table \"sources\" <= 経産省、総務省、XX株式会社といった白書やIR資料を提供している団体名\n",
    "source_id(primary key), base_url, homepage_url, org, doc, doc_url, category\n",
    "\n",
    "Table \"links\" <= Beautiful Soapで抽出したPDFファイルのURl\n",
    "link_id, path, title, source_id fk(sources:source_id)\n",
    "\n",
    "Table \"texts\" <= PyMuPDFで抽出したテキスト\n",
    "link_idf fk(links:link_id), page, text\n",
    "\n",
    "Table \"named_entities\" <= spaCyで抽出したNamed Entity\n",
    "link_id fk(links:link_id), page, named_entity, label\n",
    "```\n",
    "\n",
    "## APIサーバ (Flaskで実装)\n",
    "\n",
    "#### /sources\n",
    "\n",
    "\\[{source_id: \\<source_id\\>, base_url: \\<base_url\\>, homepage_url: \\<homepage_url\\>, org: \\<base_url\\>, doc: \\<doc\\>, doc_url: \\<doc_url\\>, category: \\<category\\>},...\\]\n",
    "\n",
    "PDFファイル検索対象となる団体のリストを返信（今回は経済産業省のみ）。\n",
    "\n",
    "#### /search?base_url=\\<base_url\\>&keywords=\\<keywords\\>\n",
    "\n",
    "\\[{link_id: \\<link\\>, title: \\<title\\>, page: \\<page\\>, text: \\<text\\>, spans: {keyword: \\[\\[\\<start\\>, \\<end\\>\\],...\\],...}\\]\n",
    "\n",
    "該当キーワードを含むPDFファイルのパスとページ番号を返信。base_urlを指定しない場合、全ての団体を検索対象とする。\n",
    "\n",
    "#### /highlight?link_id=\\<link_id\\>&page=\\<page\\>&keywords=\\<keywords\\>&all_pages=\\<all_pages\\>\n",
    "\n",
    "該当キーワードをハイライトしてPDFを返送。指定ページの前後で合計３ページ分を返信。"
   ]
  },
  {
   "cell_type": "code",
   "execution_count": 1,
   "id": "7e4c54cd-e22d-42f0-934e-0d585e97a5f7",
   "metadata": {},
   "outputs": [],
   "source": [
    "# 2023年度(令和5年)白書\n",
    "\n",
    "ORGS_JAPANESE_GOV = [\n",
    "    [\"経済産業省\",\n",
    "     \"通商白書 2023\",\n",
    "     \"https://www.meti.go.jp\",\n",
    "     \"https://www.meti.go.jp\",\n",
    "     \"https://www.meti.go.jp/report/tsuhaku2023/whitepaper_2023.html\"],\n",
    "    [\"総務省\",\n",
    "     \"情報通信白書 2023\",\n",
    "     \"https://www.soumu.go.jp\",\n",
    "     \"https://www.soumu.go.jp/johotsusintokei/whitepaper/ja/r05/pdf\",\n",
    "     \"https://www.soumu.go.jp/johotsusintokei/whitepaper/ja/r05/pdf/index.html\"],\n",
    "    [\"防衛省\",\n",
    "     \"防衛白書 2023\",\n",
    "     \"https://www.mod.go.jp/\",\n",
    "     \"http://www.clearing.mod.go.jp/hakusho_data/2023/pdf\",\n",
    "     \"http://www.clearing.mod.go.jp/hakusho_data/2023/pdf/index.html\"]\n",
    "]\n",
    "\n",
    "ORGS_LOCAL_GOVERNMENT = [\n",
    "    [\"横浜市\",\n",
    "     \"横浜市中期計画 2022～2025\",\n",
    "     \"https://www.city.yokohama.lg.jp\",\n",
    "     \"https://www.city.yokohama.lg.jp/city-info/seisaku/hoshin/4kanen/2022-2025/chuki2022-.files\",\n",
    "     \"https://www.city.yokohama.lg.jp/city-info/seisaku/hoshin/4kanen/2022-2025/chuki2022-.html\"\n",
    "    ],\n",
    "    [\"川崎市\",\n",
    "     \"川崎市総合計画 2022〜2025\",\n",
    "     \"https://www.city.kawasaki.jp/index.html\",\n",
    "     \"https://www.city.kawasaki.jp/170/page\",\n",
    "     \"https://www.city.kawasaki.jp/170/page/0000138364.html\"\n",
    "    ]\n",
    "]\n",
    "\n",
    "ORGS = {\"日本政府\": ORGS_JAPANESE_GOV, \"自治体\": ORGS_LOCAL_GOVERNMENT}"
   ]
  },
  {
   "cell_type": "code",
   "execution_count": 2,
   "id": "aad81a9b-99f3-43e8-8d27-15529a1dc4e5",
   "metadata": {},
   "outputs": [],
   "source": [
    "%run ./lib.py"
   ]
  },
  {
   "cell_type": "code",
   "execution_count": 3,
   "id": "b08a8853-8983-4211-81c8-7bdde7178f5c",
   "metadata": {},
   "outputs": [],
   "source": [
    "import sqlite3\n",
    "\n",
    "with sqlite3.connect(DB_PATH) as conn:\n",
    "    cur = conn.cursor()\n",
    "    cur.execute('DROP TABLE IF EXISTS sources')\n",
    "    cur.execute('CREATE TABLE sources (source_id INTEGER PRIMARY KEY AUTOINCREMENT, \\\n",
    "    base_url TEXT, homepage_url TEXT, org TEXT, doc TEXT, doc_url TEXT, category TEXT, \\\n",
    "    UNIQUE(homepage_url, org, doc, doc_url, category))')\n",
    "    for category, orgs in ORGS.items():\n",
    "        for o in orgs:\n",
    "            org = o[0]\n",
    "            doc = o[1]\n",
    "            homepage_url =o[2]\n",
    "            base_url = o[3]\n",
    "            doc_url = o[4]\n",
    "            cur.execute(f'INSERT INTO sources (base_url, homepage_url, org, doc, doc_url, category) \\\n",
    "            VALUES (\"{base_url}\", \"{homepage_url}\", \"{org}\", \"{doc}\", \"{doc_url}\", \"{category}\")')"
   ]
  }
 ],
 "metadata": {
  "kernelspec": {
   "display_name": "Python 3 (ipykernel)",
   "language": "python",
   "name": "python3"
  },
  "language_info": {
   "codemirror_mode": {
    "name": "ipython",
    "version": 3
   },
   "file_extension": ".py",
   "mimetype": "text/x-python",
   "name": "python",
   "nbconvert_exporter": "python",
   "pygments_lexer": "ipython3",
   "version": "3.11.4"
  }
 },
 "nbformat": 4,
 "nbformat_minor": 5
}
